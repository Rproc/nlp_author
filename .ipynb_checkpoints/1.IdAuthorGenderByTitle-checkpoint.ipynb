{
 "cells": [
  {
   "cell_type": "code",
   "execution_count": 1,
   "metadata": {},
   "outputs": [],
   "source": [
    "from sklearn import model_selection, preprocessing, linear_model, naive_bayes, metrics, svm\n",
    "from sklearn.feature_extraction.text import TfidfVectorizer, CountVectorizer\n",
    "from sklearn import decomposition, ensemble\n",
    "import matplotlib.pyplot as plt\n",
    "import warnings\n",
    "\n",
    "import pandas as pd, numpy as np, string\n",
    "\n",
    "warnings.filterwarnings('ignore')"
   ]
  },
  {
   "cell_type": "code",
   "execution_count": 2,
   "metadata": {},
   "outputs": [],
   "source": [
    "dataset = pd.read_csv('dataset/good_reads_final.csv')"
   ]
  },
  {
   "cell_type": "code",
   "execution_count": 3,
   "metadata": {},
   "outputs": [
    {
     "data": {
      "text/plain": [
       "Index(['author_average_rating', 'author_gender', 'author_genres', 'author_id',\n",
       "       'author_name', 'author_page_url', 'author_rating_count',\n",
       "       'author_review_count', 'birthplace', 'book_average_rating',\n",
       "       'book_fullurl', 'book_id', 'book_title', 'genre_1', 'genre_2',\n",
       "       'num_ratings', 'num_reviews', 'pages', 'publish_date', 'score'],\n",
       "      dtype='object')"
      ]
     },
     "execution_count": 3,
     "metadata": {},
     "output_type": "execute_result"
    }
   ],
   "source": [
    "dataset.columns"
   ]
  },
  {
   "cell_type": "code",
   "execution_count": 4,
   "metadata": {},
   "outputs": [],
   "source": [
    "train_x, valid_x, train_y, valid_y = model_selection.train_test_split(dataset['book_title'], dataset['author_gender'], test_size = 0.2)"
   ]
  },
  {
   "cell_type": "code",
   "execution_count": 5,
   "metadata": {},
   "outputs": [],
   "source": [
    "encoder = preprocessing.LabelEncoder()\n",
    "train_y = encoder.fit_transform(train_y)\n",
    "valid_y = encoder.fit_transform(valid_y)"
   ]
  },
  {
   "cell_type": "code",
   "execution_count": 6,
   "metadata": {},
   "outputs": [],
   "source": [
    "def countVec(data, sw=None, sa=None, lc=True):\n",
    "    count_vect = CountVectorizer(analyzer='word', token_pattern=r'\\w{1,}', stop_words=sw, strip_accents= sa, lowercase=lc)\n",
    "    count_vect.fit(data)\n",
    "    xtrain_count =  count_vect.transform(train_x)\n",
    "    xvalid_count =  count_vect.transform(valid_x)\n",
    "    return xtrain_count, xvalid_count"
   ]
  },
  {
   "cell_type": "code",
   "execution_count": 7,
   "metadata": {},
   "outputs": [],
   "source": [
    "def tfidfVec(data, sw=None, sa=None, lc=True):\n",
    "    tfidf_vect = TfidfVectorizer(analyzer='word', token_pattern=r'\\w{1,}', max_features=5000, stop_words=sw, strip_accents= sa, lowercase=lc)\n",
    "    tfidf_vect.fit(data)\n",
    "    xtrain_tfidf =  tfidf_vect.transform(train_x)\n",
    "    xvalid_tfidf =  tfidf_vect.transform(valid_x)\n",
    "    return xtrain_tfidf, xvalid_tfidf"
   ]
  },
  {
   "cell_type": "code",
   "execution_count": 8,
   "metadata": {},
   "outputs": [],
   "source": [
    "def train_model(classifier, feature_vector_train, label, feature_vector_valid, is_neural_net=False):\n",
    "    # fit the training dataset on the classifier\n",
    "    classifier.fit(feature_vector_train, label)\n",
    "    \n",
    "    # predict the labels on validation dataset\n",
    "    predictions = classifier.predict(feature_vector_valid)\n",
    "    \n",
    "    if is_neural_net:\n",
    "        predictions = predictions.argmax(axis=-1)\n",
    "    \n",
    "    lista = []\n",
    "    lista.append(metrics.accuracy_score(valid_y, predictions))\n",
    "    lista.append(metrics.recall_score(valid_y, predictions))\n",
    "    lista.append(metrics.f1_score(valid_y, predictions))\n",
    "    lista.append(metrics.confusion_matrix(valid_y, predictions))\n",
    "    \n",
    "    return lista"
   ]
  },
  {
   "cell_type": "code",
   "execution_count": 9,
   "metadata": {},
   "outputs": [],
   "source": [
    "def plotMetrics(listOfResults, listOfMetrics):\n",
    "\n",
    "    for l in range(len(listOfResults)):\n",
    "        ax = plt.axes()\n",
    "        ax.bar(l, listOfResults[l], label=listOfMetrics[l], align='center', width=0.4)\n",
    "\n",
    "    # fig = plt.figure(figsize=(1,1))\n",
    "    plt.title(\"Análise de Gênero do Autor(a) de acordo com o titulo da obra\")\n",
    "    plt.legend(listOfMetrics)\n",
    "    plt.ylabel(\"Porcentagem\")\n",
    "    plt.xlabel(\"Métricas\")\n",
    "    plt.xticks(range(len(listOfResults)))\n",
    "    plt.show()"
   ]
  },
  {
   "cell_type": "code",
   "execution_count": 10,
   "metadata": {},
   "outputs": [],
   "source": [
    "def plot_confusion_matrix(classes, cm,\n",
    "                          normalize=False,\n",
    "                          title=None,\n",
    "                          cmap=plt.cm.Blues):\n",
    "    \"\"\"\n",
    "    This function prints and plots the confusion matrix.\n",
    "    Normalization can be applied by setting `normalize=True`.\n",
    "    \"\"\"\n",
    "    if not title:\n",
    "        if normalize:\n",
    "            title = 'Matrix de Confusão Normalizada'\n",
    "        else:\n",
    "            title = 'Matrix de Confusão'\n",
    "\n",
    "    # Compute confusion matrix\n",
    "    cm = cm\n",
    "    # Only use the labels that appear in the data\n",
    "    classes = classes\n",
    "    if normalize:\n",
    "        cm = cm.astype('float') / cm.sum(axis=1)[:, np.newaxis]\n",
    "        print(\"Matrix de Confusão Normalizada\")\n",
    "    else:\n",
    "        print('Matrix de Confusão')\n",
    "\n",
    "#     print(cm)\n",
    "\n",
    "    fig, ax = plt.subplots()\n",
    "    im = ax.imshow(cm, interpolation='nearest', cmap=cmap)\n",
    "    ax.figure.colorbar(im, ax=ax)\n",
    "    # We want to show all ticks...\n",
    "    ax.set(xticks=np.arange(cm.shape[1]),\n",
    "           yticks=np.arange(cm.shape[0]),\n",
    "           # ... and label them with the respective list entries\n",
    "           xticklabels=classes, yticklabels=classes,\n",
    "           title=title,\n",
    "           ylabel='Rotulo Verdadeiro',\n",
    "           xlabel='Rotulo Predito')\n",
    "\n",
    "    # Rotate the tick labels and set their alignment.\n",
    "    plt.setp(ax.get_xticklabels(), rotation=45, ha=\"right\",\n",
    "             rotation_mode=\"anchor\")\n",
    "\n",
    "    # Loop over data dimensions and create text annotations.\n",
    "    fmt = '.2f' if normalize else 'd'\n",
    "    thresh = cm.max() / 2.\n",
    "    for i in range(cm.shape[0]):\n",
    "        for j in range(cm.shape[1]):\n",
    "            if i == 0:\n",
    "                ax.text(j, i+0.2, format(cm[i, j], fmt),\n",
    "                    ha=\"center\", va=\"center\",\n",
    "                    color=\"white\" if cm[i, j] > thresh else \"black\")\n",
    "            else:\n",
    "                ax.text(j, i-0.2, format(cm[i, j], fmt),\n",
    "                    ha=\"center\", va=\"center\",\n",
    "                    color=\"white\" if cm[i, j] > thresh else \"black\")\n",
    "    fig.tight_layout()\n",
    "    return ax\n"
   ]
  },
  {
   "cell_type": "code",
   "execution_count": 11,
   "metadata": {},
   "outputs": [],
   "source": [
    "models = [naive_bayes.MultinomialNB(), linear_model.LogisticRegression(), ensemble.RandomForestClassifier()]\n",
    "features = [['english', None, True], ['english', 'ascii', True], \n",
    "            ['english', None, False], ['english', 'ascii', False], \n",
    "            [None, 'ascii', True], [None, 'ascii', False]]"
   ]
  },
  {
   "cell_type": "markdown",
   "metadata": {},
   "source": [
    "# Para Bag of Words"
   ]
  },
  {
   "cell_type": "code",
   "execution_count": 12,
   "metadata": {},
   "outputs": [],
   "source": [
    "d = {}\n",
    "l = []\n",
    "i = 0\n",
    "for md in models:\n",
    "    l.append(md)\n",
    "    for f in features:\n",
    "        xtrain_count, xvalid_count = countVec(dataset['book_title'], f[0], f[1], f[2])\n",
    "        l.append(train_model(md, xtrain_count, train_y, xvalid_count))\n",
    "    d[i] = l\n",
    "    i+=1\n",
    "    l = []\n"
   ]
  },
  {
   "cell_type": "code",
   "execution_count": 13,
   "metadata": {},
   "outputs": [
    {
     "name": "stdout",
     "output_type": "stream",
     "text": [
      "(0, [MultinomialNB(alpha=1.0, class_prior=None, fit_prior=True), [0.6525442236296135, 0.6053388090349076, 0.6494822648160388, array([[1514,  630],\n",
      "       [ 961, 1474]])], [0.6558200480454248, 0.6250513347022587, 0.6588744588744588, array([[1481,  663],\n",
      "       [ 913, 1522]])], [0.6654291329984713, 0.6213552361396304, 0.6638876700307154, array([[1534,  610],\n",
      "       [ 922, 1513]])], [0.6732911115964184, 0.6472279260780287, 0.6781411359724613, array([[1507,  637],\n",
      "       [ 859, 1576]])], [0.6678314042367329, 0.6542094455852157, 0.6768642447418739, array([[1465,  679],\n",
      "       [ 842, 1593]])], [0.6684865691198951, 0.6521560574948665, 0.6766084363016617, array([[1473,  671],\n",
      "       [ 847, 1588]])]]) \n",
      "\n",
      "(1, [LogisticRegression(C=1.0, class_weight=None, dual=False, fit_intercept=True,\n",
      "                   intercept_scaling=1, l1_ratio=None, max_iter=100,\n",
      "                   multi_class='warn', n_jobs=None, penalty='l2',\n",
      "                   random_state=None, solver='warn', tol=0.0001, verbose=0,\n",
      "                   warm_start=False), [0.679842760428041, 0.7367556468172485, 0.7099327265532251, array([[1319,  825],\n",
      "       [ 641, 1794]])], [0.6804979253112033, 0.7429158110882957, 0.71206455422161, array([[1307,  837],\n",
      "       [ 626, 1809]])], [0.6916357283249618, 0.7437371663244353, 0.7195073500198649, array([[1356,  788],\n",
      "       [ 624, 1811]])], [0.6905437868530246, 0.7515400410677618, 0.7208981682095726, array([[1332,  812],\n",
      "       [ 605, 1830]])], [0.688141515614763, 0.7449691991786448, 0.7175632911392406, array([[1337,  807],\n",
      "       [ 621, 1814]])], [0.6883599039091505, 0.744558521560575, 0.7175935088066494, array([[1339,  805],\n",
      "       [ 622, 1813]])]]) \n",
      "\n",
      "(2, [RandomForestClassifier(bootstrap=True, class_weight=None, criterion='gini',\n",
      "                       max_depth=None, max_features='auto', max_leaf_nodes=None,\n",
      "                       min_impurity_decrease=0.0, min_impurity_split=None,\n",
      "                       min_samples_leaf=1, min_samples_split=2,\n",
      "                       min_weight_fraction_leaf=0.0, n_estimators=10,\n",
      "                       n_jobs=None, oob_score=False, random_state=None,\n",
      "                       verbose=0, warm_start=False), [0.6892334570867001, 0.6098562628336756, 0.676075574778056, array([[1671,  473],\n",
      "       [ 950, 1485]])], [0.7189342651233894, 0.7712525667351129, 0.744794765020821, array([[1414,  730],\n",
      "       [ 557, 1878]])], [0.7276697968988862, 0.8078028747433265, 0.7593128739625555, array([[1365,  779],\n",
      "       [ 468, 1967]])], [0.729635291548373, 0.8036960985626284, 0.7597049689440994, array([[1384,  760],\n",
      "       [ 478, 1957]])], [0.7320375627866347, 0.8254620123203286, 0.7661520869068039, array([[1342,  802],\n",
      "       [ 425, 2010]])], [0.7418650360340686, 0.8336755646817249, 0.7745135444486837, array([[1367,  777],\n",
      "       [ 405, 2030]])]]) \n",
      "\n"
     ]
    }
   ],
   "source": [
    "for item in d.items():\n",
    "    print(item, '\\n')"
   ]
  },
  {
   "cell_type": "markdown",
   "metadata": {},
   "source": [
    "### Com o print acima, podemos concluir que utilizando o método Bag of Words e os três algoritmos:\n",
    "\n",
    "* Que o melhor cenário é não por todas as palavras em caixa baixa com remoção de caracteres não ASCII e sem remoção de stopwords;\n",
    "* A remoção de StopWords, nesse caso apenas atrapalha o desempenho do algoritmo;\n",
    "* Já a remoção de caracteres \"não ascii\" mostrou-se vantajosa;\n",
    "* O algoritmo de Floresta Randômica, foi o que se saiu melhor neste experimento."
   ]
  },
  {
   "cell_type": "markdown",
   "metadata": {},
   "source": [
    "# Para TFIDF"
   ]
  },
  {
   "cell_type": "code",
   "execution_count": 14,
   "metadata": {},
   "outputs": [],
   "source": [
    "d2 = {}\n",
    "l2 = []\n",
    "i = 0\n",
    "for md in models:\n",
    "    l2.append(md)\n",
    "    for f in features:\n",
    "        xtrain_tfidf, xvalid_tfidf = tfidfVec(dataset['book_title'], f[0], f[1], f[2])\n",
    "        l2.append(train_model(md, xtrain_tfidf, train_y, xvalid_tfidf))\n",
    "    d2[i] = l2\n",
    "    i+=1\n",
    "    l2 = []"
   ]
  },
  {
   "cell_type": "code",
   "execution_count": 15,
   "metadata": {},
   "outputs": [
    {
     "name": "stdout",
     "output_type": "stream",
     "text": [
      "(0, [MultinomialNB(alpha=1.0, class_prior=None, fit_prior=True), [0.6617165319938851, 0.7240246406570842, 0.6947783251231527, array([[1267,  877],\n",
      "       [ 672, 1763]])], [0.6684865691198951, 0.7433264887063655, 0.7045543012845465, array([[1251,  893],\n",
      "       [ 625, 1810]])], [0.6783140423673291, 0.737987679671458, 0.7092954410894021, array([[1309,  835],\n",
      "       [ 638, 1797]])], [0.6770037126010046, 0.7453798767967146, 0.7105108631826188, array([[1285,  859],\n",
      "       [ 620, 1815]])], [0.6785324306617165, 0.7494866529774127, 0.712612260835611, array([[1282,  862],\n",
      "       [ 610, 1825]])], [0.6791875955448788, 0.7540041067761807, 0.7142579264734487, array([[1274,  870],\n",
      "       [ 599, 1836]])]]) \n",
      "\n",
      "(1, [LogisticRegression(C=1.0, class_weight=None, dual=False, fit_intercept=True,\n",
      "                   intercept_scaling=1, l1_ratio=None, max_iter=100,\n",
      "                   multi_class='warn', n_jobs=None, penalty='l2',\n",
      "                   random_state=None, solver='warn', tol=0.0001, verbose=0,\n",
      "                   warm_start=False), [0.666302686176021, 0.7540041067761807, 0.7061538461538461, array([[1215,  929],\n",
      "       [ 599, 1836]])], [0.6706704520637694, 0.7589322381930185, 0.7102229054573406, array([[1223,  921],\n",
      "       [ 587, 1848]])], [0.6778772657785542, 0.7589322381930185, 0.7147553664668342, array([[1256,  888],\n",
      "       [ 587, 1848]])], [0.6756933828346801, 0.7638603696098563, 0.7146974063400576, array([[1234,  910],\n",
      "       [ 575, 1860]])], [0.6770037126010046, 0.7593429158110883, 0.7143133088661388, array([[1251,  893],\n",
      "       [ 586, 1849]])], [0.6763485477178424, 0.7663244353182751, 0.715765247410817, array([[1231,  913],\n",
      "       [ 569, 1866]])]]) \n",
      "\n",
      "(2, [RandomForestClassifier(bootstrap=True, class_weight=None, criterion='gini',\n",
      "                       max_depth=None, max_features='auto', max_leaf_nodes=None,\n",
      "                       min_impurity_decrease=0.0, min_impurity_split=None,\n",
      "                       min_samples_leaf=1, min_samples_split=2,\n",
      "                       min_weight_fraction_leaf=0.0, n_estimators=10,\n",
      "                       n_jobs=None, oob_score=False, random_state=None,\n",
      "                       verbose=0, warm_start=False), [0.7128193928805416, 0.7765913757700206, 0.7420051010398274, array([[1373,  771],\n",
      "       [ 544, 1891]])], [0.7163136055907403, 0.7806981519507187, 0.7453440501862381, array([[1379,  765],\n",
      "       [ 534, 1901]])], [0.7246123607774624, 0.8024640657084189, 0.7560456568001547, array([[1364,  780],\n",
      "       [ 481, 1954]])], [0.7189342651233894, 0.793429158110883, 0.7501456027955737, array([[1360,  784],\n",
      "       [ 503, 1932]])], [0.7335662808473465, 0.8217659137577003, 0.766373037150517, array([[1358,  786],\n",
      "       [ 434, 2001]])], [0.7265778554269491, 0.8164271047227926, 0.7605202754399387, array([[1339,  805],\n",
      "       [ 447, 1988]])]]) \n",
      "\n"
     ]
    }
   ],
   "source": [
    "for item in d2.items():\n",
    "    print(item, '\\n')"
   ]
  },
  {
   "cell_type": "markdown",
   "metadata": {},
   "source": [
    "### Com o print acima, podemos concluir que utilizando o método TFIDF e os três algoritmos:\n",
    "\n",
    "* Que o melhor cenário é não por todas as palavras em caixa baixa com remoção de caracteres não ASCII e sem remoção de stopwords;\n",
    "* A remoção de StopWords, nesse caso apenas atrapalha o desempenho do algoritmo;\n",
    "* Já a remoção de caracteres \"não ascii\" mostrou-se vantajosa;\n",
    "* Mas uma vez o algoritmo de Floresta Randômica, foi o que se saiu melhor neste experimento.\n",
    "* Podemos observar também que o uso da técnica TFIDF, mostrou-se obter resultados piores do que uma técnica mais simples como o Bag of Words"
   ]
  },
  {
   "cell_type": "markdown",
   "metadata": {},
   "source": [
    "# Análise Preliminar dos Resultados\n"
   ]
  },
  {
   "cell_type": "markdown",
   "metadata": {},
   "source": [
    "### Para a análise dos resultados será considerada a execução com os seguintes parâmetros:\n",
    "\n",
    "* Sem aplicação de *lowercase*\n",
    "* Com remoção de caracteres \"não ASCII\"\n",
    "* Sem remoção de *stopwords*\n",
    "* Com a aplicação da técnica *bag of words*\n",
    "\n",
    "#### Os resultados são compostos das seguintes métricas, e seus resultados:\n",
    "\n",
    "* Acurácia: 0,73\n",
    "* Recall:   0,82\n",
    "* F1 Score: 0,77\n",
    "\n",
    "Apesar de acertar aproximadamente o gênero de 7 autores(as) a cada 10 vez, o recall do algoritmo é consideravelmente alto, o que significa que consegue identificar com uma boa margem aqueles o qual ele selecionou como sendo de cada gênero.\n",
    "Todavia, observando a F1 Score, podemos inferir que a precisão do algoritmo é bem inferior ao recall, o que faz com que muitos titulos tenham sido atribuídos ao gênero errado."
   ]
  },
  {
   "cell_type": "code",
   "execution_count": 16,
   "metadata": {},
   "outputs": [
    {
     "data": {
      "image/png": "[encoded data removed]",
      "text/plain": [
       "<Figure size 432x288 with 1 Axes>"
      ]
     },
     "metadata": {
      "needs_background": "light"
     },
     "output_type": "display_data"
    }
   ],
   "source": [
    "listOfResults = [d2[2][6][0], d2[2][6][1], d2[2][6][2]]\n",
    "listOfMetrics = ['Acuracia', 'Recall', 'F1 Score']\n",
    "plotMetrics(listOfResults, listOfMetrics)"
   ]
  },
  {
   "cell_type": "code",
   "execution_count": 17,
   "metadata": {},
   "outputs": [
    {
     "name": "stdout",
     "output_type": "stream",
     "text": [
      "Matrix de Confusão\n",
      "Matrix de Confusão Normalizada\n"
     ]
    },
    {
     "data": {
      "image/png": "[encoded data removed]",
      "text/plain": [
       "<Figure size 432x288 with 2 Axes>"
      ]
     },
     "metadata": {
      "needs_background": "light"
     },
     "output_type": "display_data"
    },
    {
     "data": {
      "image/png": "[encoded data removed]",
      "text/plain": [
       "<Figure size 432x288 with 2 Axes>"
      ]
     },
     "metadata": {
      "needs_background": "light"
     },
     "output_type": "display_data"
    }
   ],
   "source": [
    "np.set_printoptions(precision=2)\n",
    "cl = ['Autores', 'Autoras']\n",
    "cl = np.asarray(cl)\n",
    "plot_confusion_matrix(cl, d[2][6][3])\n",
    "plot_confusion_matrix(cl, d[2][6][3], normalize=True)\n",
    "plt.show()"
   ]
  },
  {
   "cell_type": "markdown",
   "metadata": {},
   "source": [
    "### Com base na Matriz de Confusão, pode-se observar que o Algoritmo tem uma maior acerto (cerca de 20% a mais) quando identifica as autoras, logo ele classifica muito livro que é escrito por um autor, como sendo escrito por uma autora."
   ]
  }
 ],
 "metadata": {
  "kernelspec": {
   "display_name": "Python 3",
   "language": "python",
   "name": "python3"
  },
  "language_info": {
   "codemirror_mode": {
    "name": "ipython",
    "version": 3
   },
   "file_extension": ".py",
   "mimetype": "text/x-python",
   "name": "python",
   "nbconvert_exporter": "python",
   "pygments_lexer": "ipython3",
   "version": "3.7.4"
  }
 },
 "nbformat": 4,
 "nbformat_minor": 2
}
