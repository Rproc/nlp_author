{
 "cells": [
  {
   "cell_type": "code",
   "execution_count": 1,
   "metadata": {},
   "outputs": [],
   "source": [
    "# Bibliotecas de processamento de dados, aprendizado de máquina e métricas\n",
    "from sklearn import model_selection, preprocessing, linear_model, naive_bayes, metrics\n",
    "# Bibliotecas para extração de informação de textos\n",
    "from sklearn.feature_extraction.text import TfidfVectorizer, CountVectorizer\n",
    "# Bibliotecas de aprendizado de máquina\n",
    "from sklearn import decomposition, ensemble\n",
    "# Biblioteca de plot de graficos\n",
    "import matplotlib.pyplot as plt\n",
    "# Biblioteca de carregamento e modificação de conjunto de dados, cientifica e numerica, e para mexer com palavras\n",
    "import pandas as pd, numpy as np, string\n",
    "# Biblioteca para trabalhar com regex\n",
    "import re\n",
    "\n",
    "# Biblioteca e função para ignorar warnings\n",
    "import warnings\n",
    "warnings.filterwarnings('ignore')"
   ]
  },
  {
   "cell_type": "code",
   "execution_count": 2,
   "metadata": {},
   "outputs": [],
   "source": [
    "# Carregando conjunto de dados\n",
    "dataset = pd.read_csv('dataset/good_reads_final.csv')"
   ]
  },
  {
   "cell_type": "code",
   "execution_count": 3,
   "metadata": {},
   "outputs": [
    {
     "data": {
      "text/plain": [
       "Index(['author_average_rating', 'author_gender', 'author_genres', 'author_id',\n",
       "       'author_name', 'author_page_url', 'author_rating_count',\n",
       "       'author_review_count', 'birthplace', 'book_average_rating',\n",
       "       'book_fullurl', 'book_id', 'book_title', 'genre_1', 'genre_2',\n",
       "       'num_ratings', 'num_reviews', 'pages', 'publish_date', 'score'],\n",
       "      dtype='object')"
      ]
     },
     "execution_count": 3,
     "metadata": {},
     "output_type": "execute_result"
    }
   ],
   "source": [
    "# Visualizando as colunas para poder filtrar depois\n",
    "dataset.columns"
   ]
  },
  {
   "cell_type": "code",
   "execution_count": 4,
   "metadata": {},
   "outputs": [],
   "source": [
    "# Separando as colunas que vão ser utilizadas\n",
    "dataset = dataset[['author_average_rating', 'author_gender','author_genres', 'author_rating_count', 'author_review_count', 'birthplace', 'book_average_rating', 'book_id', 'book_title', 'genre_1', 'genre_2', 'num_ratings', 'num_reviews', 'pages', 'score']]"
   ]
  },
  {
   "cell_type": "markdown",
   "metadata": {},
   "source": [
    "##### * Página URL do Autor(a) foi retirado também devido a conter o nome dos Autores(as)\n",
    "##### * URL do Livro também foi retirada devido a trazer apenas informações que podem ser derivadas das outras *features*\n",
    "##### * O ano de publicação também foi retirado devido a inconsistencia da tabela (um número consideravel célula apresentavam dados inconsistentes.\n"
   ]
  },
  {
   "cell_type": "code",
   "execution_count": 5,
   "metadata": {},
   "outputs": [],
   "source": [
    "# Padronizando os ratings dos autores e dos livros (tem alguns 4.01 e 401.0)\n",
    "dataset['author_average_rating'] = np.where(dataset['author_average_rating'] > 100.0, dataset['author_average_rating']/100, dataset['author_average_rating'])\n",
    "dataset['book_average_rating'] = np.where(dataset['book_average_rating'] > 100.0, dataset['book_average_rating']/100, dataset['book_average_rating'])\n",
    "\n",
    "# Refazendo o index (caso algo tenha sido excluido)\n",
    "dataset = dataset.reset_index(drop=True)"
   ]
  },
  {
   "cell_type": "code",
   "execution_count": 6,
   "metadata": {},
   "outputs": [],
   "source": [
    "# Separando as caracteristicas (features) que serão utilizadas no treinamento (X está certo)\n",
    "X = dataset[['author_average_rating', 'author_rating_count', 'author_review_count', 'book_average_rating', 'num_ratings', 'num_reviews', 'pages', 'score']]\n",
    "# Campos textuais, necessita de pré-processamento ainda\n",
    "X_to_text = dataset[['author_genres', 'birthplace', 'book_title','genre_1', 'genre_2']]\n",
    "# Definindo a variavel alvo\n",
    "y = dataset[['author_gender']]\n",
    "# Copiando o dataframe para poder utilizar duas tecnicas diferentes (uma em cada)\n",
    "X2 = X"
   ]
  },
  {
   "cell_type": "code",
   "execution_count": 7,
   "metadata": {},
   "outputs": [],
   "source": [
    "# Binarizar o label (Cada genero vira um numero)\n",
    "encoder = preprocessing.LabelEncoder()\n",
    "y = encoder.fit_transform(y)"
   ]
  },
  {
   "cell_type": "code",
   "execution_count": 8,
   "metadata": {},
   "outputs": [],
   "source": [
    "# Bag of Words\n",
    "def countVec(data, sw=None, sa=None, lc=True, max_f = 2500):\n",
    "    # configurando a função\n",
    "    count_vect = CountVectorizer(analyzer='word', token_pattern=r'\\w{1,}', stop_words=sw, strip_accents= sa, lowercase=lc, max_features = max_f)\n",
    "    # realizando treinamento\n",
    "    count_vect.fit(data)\n",
    "    # Vetorizando os dados\n",
    "    x_count =  count_vect.transform(data)\n",
    "    return x_count"
   ]
  },
  {
   "cell_type": "code",
   "execution_count": 9,
   "metadata": {},
   "outputs": [],
   "source": [
    "# TF-IDF\n",
    "def tfidfVec(data, sw=None, sa=None, lc=True, max_f=2500):\n",
    "    # configurando a função\n",
    "    tfidf_vect = TfidfVectorizer(analyzer='word', token_pattern=r'\\w{1,}', max_features=max_f, stop_words=sw, strip_accents= sa, lowercase=lc)\n",
    "    # realizando treinamento\n",
    "    tfidf_vect.fit(data)\n",
    "    # Vetorizando os dados\n",
    "    xtrain_tfidf =  tfidf_vect.transform(data)\n",
    "    return xtrain_tfidf"
   ]
  },
  {
   "cell_type": "code",
   "execution_count": 10,
   "metadata": {},
   "outputs": [],
   "source": [
    "# função para treinar e classificar os dados\n",
    "def train_model(classifier, feature_vector_train, label, feature_vector_valid, is_neural_net=False):\n",
    "    # treina com o classificador passado e o conjunto de dados e rotulos\n",
    "    classifier.fit(feature_vector_train, label)\n",
    "    \n",
    "    # realiza a predição baseada na aprendizagem\n",
    "    predictions = classifier.predict(feature_vector_valid)\n",
    "    \n",
    "    if is_neural_net:\n",
    "        predictions = predictions.argmax(axis=-1)\n",
    "    \n",
    "    # Calcular metricas e retornar todas elas dentro de uma lista\n",
    "    lista = []\n",
    "    lista.append(metrics.accuracy_score(valid_y, predictions))\n",
    "    lista.append(metrics.recall_score(valid_y, predictions))\n",
    "    lista.append(metrics.f1_score(valid_y, predictions))\n",
    "    lista.append(metrics.confusion_matrix(valid_y, predictions))\n",
    "    \n",
    "    return lista"
   ]
  },
  {
   "cell_type": "code",
   "execution_count": 11,
   "metadata": {},
   "outputs": [],
   "source": [
    "def plotMetrics(listOfResults, listOfMetrics):\n",
    "    \n",
    "    # Criar os eixos e preencher os dados passados na lista de resultados\n",
    "    for l in range(len(listOfResults)):\n",
    "        # Cria eixo\n",
    "        ax = plt.axes()\n",
    "        # Adiciona os pontos (barras) no gráfico\n",
    "        ax.bar(l, listOfResults[l], label=listOfMetrics[l], align='center', width=0.4)\n",
    "        if l == 0:\n",
    "            ax.set_xticklabels(listOfMetrics, rotation=75)\n",
    "\n",
    "    # fig = plt.figure(figsize=(1,1))\n",
    "    plt.title(\"Análise de Gênero do Autor(a) de acordo com o titulo da obra\")\n",
    "    plt.legend(listOfMetrics)\n",
    "    plt.ylabel(\"Porcentagem\")\n",
    "    plt.xlabel(\"Métricas\")\n",
    "    plt.xticks(range(len(listOfResults)))\n",
    "    plt.show()"
   ]
  },
  {
   "cell_type": "code",
   "execution_count": 12,
   "metadata": {},
   "outputs": [],
   "source": [
    "def plot_confusion_matrix(classes, cm,\n",
    "                          normalize=False,\n",
    "                          title=None,\n",
    "                          cmap=plt.cm.Blues):\n",
    "    \"\"\"\n",
    "    This function prints and plots the confusion matrix.\n",
    "    Normalization can be applied by setting `normalize=True`.\n",
    "    \"\"\"\n",
    "    if not title:\n",
    "        if normalize:\n",
    "            title = 'Matrix de Confusão Normalizada'\n",
    "        else:\n",
    "            title = 'Matrix de Confusão'\n",
    "\n",
    "    # Compute confusion matrix\n",
    "    cm = cm\n",
    "    # Only use the labels that appear in the data\n",
    "    classes = classes\n",
    "    if normalize:\n",
    "        cm = cm.astype('float') / cm.sum(axis=1)[:, np.newaxis]\n",
    "        print(\"Matrix de Confusão Normalizada\")\n",
    "    else:\n",
    "        print('Matrix de Confusão')\n",
    "\n",
    "#     print(cm)\n",
    "\n",
    "    fig, ax = plt.subplots()\n",
    "    im = ax.imshow(cm, interpolation='nearest', cmap=cmap)\n",
    "    ax.figure.colorbar(im, ax=ax)\n",
    "    # We want to show all ticks...\n",
    "    ax.set(xticks=np.arange(cm.shape[1]),\n",
    "           yticks=np.arange(cm.shape[0]),\n",
    "           # ... and label them with the respective list entries\n",
    "           xticklabels=classes, yticklabels=classes,\n",
    "           title=title,\n",
    "           ylabel='Rotulo Verdadeiro',\n",
    "           xlabel='Rotulo Predito')\n",
    "\n",
    "    # Rotate the tick labels and set their alignment.\n",
    "    plt.setp(ax.get_xticklabels(), rotation=45, ha=\"right\",\n",
    "             rotation_mode=\"anchor\")\n",
    "\n",
    "    # Loop over data dimensions and create text annotations.\n",
    "    fmt = '.2f' if normalize else 'd'\n",
    "    thresh = cm.max() / 2.\n",
    "    for i in range(cm.shape[0]):\n",
    "        for j in range(cm.shape[1]):\n",
    "            if i == 0:\n",
    "                ax.text(j, i+0.2, format(cm[i, j], fmt),\n",
    "                    ha=\"center\", va=\"center\",\n",
    "                    color=\"white\" if cm[i, j] > thresh else \"black\")\n",
    "            else:\n",
    "                ax.text(j, i-0.2, format(cm[i, j], fmt),\n",
    "                    ha=\"center\", va=\"center\",\n",
    "                    color=\"white\" if cm[i, j] > thresh else \"black\")\n",
    "    fig.tight_layout()\n",
    "    return ax\n"
   ]
  },
  {
   "cell_type": "code",
   "execution_count": 13,
   "metadata": {},
   "outputs": [],
   "source": [
    "# Criando uma lista de modelos para realizar o aprendizado e previsão\n",
    "models = [naive_bayes.MultinomialNB(), linear_model.LogisticRegression(), ensemble.RandomForestClassifier()]"
   ]
  },
  {
   "cell_type": "markdown",
   "metadata": {},
   "source": [
    "# Para Bag of Words"
   ]
  },
  {
   "cell_type": "code",
   "execution_count": 14,
   "metadata": {},
   "outputs": [],
   "source": [
    "# Lista de colunas (campos) textuais\n",
    "text = ['author_genres', 'birthplace', 'book_title','genre_1', 'genre_2']\n",
    "\n",
    "# para cada coluna\n",
    "for i in range(0,len(text)):\n",
    "    # faz Bag of Words\n",
    "    x_count = countVec(X_to_text[text[i]], None, 'ascii', False, 2500)\n",
    "    # transforma ele em um array (matriz)\n",
    "    x_count = x_count.toarray()\n",
    "    # transforma a matriz em dataframe\n",
    "    dataframe = pd.DataFrame.from_records(x_count)\n",
    "    # junta com as outras colunas ja pré-processadas\n",
    "    X = pd.concat([X,dataframe],axis=1)"
   ]
  },
  {
   "cell_type": "code",
   "execution_count": 15,
   "metadata": {},
   "outputs": [],
   "source": [
    "d = {}\n",
    "l = []\n",
    "i = 0\n",
    "# Divide em treino e teste\n",
    "train_x, valid_x, train_y, valid_y = model_selection.train_test_split(X,y, test_size = 0.2)\n",
    "\n",
    "# para cada modelo de aprendizado\n",
    "for md in models:\n",
    "    # guarda o modelo e caracteristicas\n",
    "    l.append(md)\n",
    "\n",
    "    # pega o retorno do treino e guarda na lista\n",
    "    l.append(train_model(md, train_x, train_y, valid_x))\n",
    "    d[i] = l\n",
    "    i+=1\n",
    "    l = []\n"
   ]
  },
  {
   "cell_type": "code",
   "execution_count": 16,
   "metadata": {},
   "outputs": [
    {
     "name": "stdout",
     "output_type": "stream",
     "text": [
      "(0, [MultinomialNB(alpha=1.0, class_prior=None, fit_prior=True), [0.5333042148940816, 0.22028985507246376, 0.3323961262105592, array([[1910,  254],\n",
      "       [1883,  532]])]]) \n",
      "\n",
      "(1, [LogisticRegression(C=1.0, class_weight=None, dual=False, fit_intercept=True,\n",
      "                   intercept_scaling=1, l1_ratio=None, max_iter=100,\n",
      "                   multi_class='warn', n_jobs=None, penalty='l2',\n",
      "                   random_state=None, solver='warn', tol=0.0001, verbose=0,\n",
      "                   warm_start=False), [0.5383271456649924, 0.9366459627329192, 0.6815305815004519, array([[ 203, 1961],\n",
      "       [ 153, 2262]])]]) \n",
      "\n",
      "(2, [RandomForestClassifier(bootstrap=True, class_weight=None, criterion='gini',\n",
      "                       max_depth=None, max_features='auto', max_leaf_nodes=None,\n",
      "                       min_impurity_decrease=0.0, min_impurity_split=None,\n",
      "                       min_samples_leaf=1, min_samples_split=2,\n",
      "                       min_weight_fraction_leaf=0.0, n_estimators=10,\n",
      "                       n_jobs=None, oob_score=False, random_state=None,\n",
      "                       verbose=0, warm_start=False), [0.8080366892334571, 0.7892339544513458, 0.8126199104668514, array([[1794,  370],\n",
      "       [ 509, 1906]])]]) \n",
      "\n"
     ]
    }
   ],
   "source": [
    "for item in d.items():\n",
    "    print(item, '\\n')"
   ]
  },
  {
   "cell_type": "markdown",
   "metadata": {},
   "source": [
    "### Com o print acima, podemos concluir que utilizando o método Bag of Words e os três algoritmos:\n",
    "\n",
    "* Devido a memória RAM, o *Bag of Words* foi aplicado só com um conjunto de parâmetros (que fazem alusão ao melhor conjunto de parâmetros da tarefa 1.\n",
    "* Pode-se observar que em acurácia, o algoritmo de Floresta Randômica é muito melhor que os outros dois algoritmos.\n",
    "* Apesar de ter uma acurácia ruim, o recall da Regressão Logistica é muito alto, fazendo com que a F1 Score também seja alta.\n",
    "* Comparando o resultado obtido com quase todas as colunas do conjunto de dados ao resultado obtido com apenas o titulo do livro, podemos concluir que apenas o titulo do livro apresenta um resultado satisfatorio (levando em conta também que dois dos algoritmos obtiveram resultados piores.\n",
    "* Vale salientar que também devido a memória RAM disponivel, apenas as 2.500 palavras \"mais importantes\" foram selecionadas de cada coluna \"textual\"."
   ]
  },
  {
   "cell_type": "markdown",
   "metadata": {},
   "source": [
    "# Para TFIDF"
   ]
  },
  {
   "cell_type": "code",
   "execution_count": 17,
   "metadata": {},
   "outputs": [],
   "source": [
    "# Analogo ao Bag of Words (com exceção que usa X2 (cópia do X antes do Bag of Words))\n",
    "text = ['author_genres', 'birthplace', 'book_title','genre_1', 'genre_2']\n",
    "\n",
    "for i in range(0,len(text)):\n",
    "\n",
    "    x_tfidf = countVec(X_to_text[text[i]], None, 'ascii', False, 2500)\n",
    "    x_tfidf = x_tfidf.toarray()\n",
    "    dataframe = pd.DataFrame.from_records(x_tfidf)\n",
    "    X2 = pd.concat([X2,dataframe],axis=1)"
   ]
  },
  {
   "cell_type": "code",
   "execution_count": 18,
   "metadata": {},
   "outputs": [],
   "source": [
    "# Analogo a linha 15\n",
    "d2 = {}\n",
    "l2 = []\n",
    "i = 0\n",
    "train_x, valid_x, train_y, valid_y = model_selection.train_test_split(X2,y, test_size = 0.2)\n",
    "\n",
    "for md in models:\n",
    "    l2.append(md)\n",
    "\n",
    "    l2.append(train_model(md, train_x, train_y, valid_x))\n",
    "    d2[i] = l2\n",
    "    i+=1\n",
    "    l2 = []\n"
   ]
  },
  {
   "cell_type": "code",
   "execution_count": 19,
   "metadata": {},
   "outputs": [
    {
     "name": "stdout",
     "output_type": "stream",
     "text": [
      "(0, [MultinomialNB(alpha=1.0, class_prior=None, fit_prior=True), [0.5234767416466477, 0.2364613476643241, 0.343956704750451, array([[1825,  335],\n",
      "       [1847,  572]])]]) \n",
      "\n",
      "(1, [LogisticRegression(C=1.0, class_weight=None, dual=False, fit_intercept=True,\n",
      "                   intercept_scaling=1, l1_ratio=None, max_iter=100,\n",
      "                   multi_class='warn', n_jobs=None, penalty='l2',\n",
      "                   random_state=None, solver='warn', tol=0.0001, verbose=0,\n",
      "                   warm_start=False), [0.5378903690762176, 0.9371641174038859, 0.6818045112781954, array([[ 196, 1964],\n",
      "       [ 152, 2267]])]]) \n",
      "\n",
      "(2, [RandomForestClassifier(bootstrap=True, class_weight=None, criterion='gini',\n",
      "                       max_depth=None, max_features='auto', max_leaf_nodes=None,\n",
      "                       min_impurity_decrease=0.0, min_impurity_split=None,\n",
      "                       min_samples_leaf=1, min_samples_split=2,\n",
      "                       min_weight_fraction_leaf=0.0, n_estimators=10,\n",
      "                       n_jobs=None, oob_score=False, random_state=None,\n",
      "                       verbose=0, warm_start=False), [0.8030137584625464, 0.7817279867713931, 0.8074295473953885, array([[1786,  374],\n",
      "       [ 528, 1891]])]]) \n",
      "\n"
     ]
    }
   ],
   "source": [
    "for item in d2.items():\n",
    "    print(item, '\\n')"
   ]
  },
  {
   "cell_type": "markdown",
   "metadata": {},
   "source": [
    "### Com o print acima, podemos concluir que utilizando o método TFIDF e os três algoritmos:\n",
    "\n",
    "* Devido a memória RAM, o *TFIDF* foi aplicado só com um conjunto de parâmetros (que fazem alusão ao melhor conjunto de parâmetros da tarefa 1.\n",
    "* Vale salientar que também devido a memória RAM disponivel, apenas as 2.500 palavras \"mais importantes\" foram selecionadas de cada coluna \"textual\".\n",
    "* Mais uma vez o algoritmo de Floresta Randômica, foi o que se saiu melhor neste experimento.\n",
    "* Podemos observar também que o uso da técnica TFIDF, mostrou-se obter resultados piores do que uma técnica mais simples como o Bag of Words.\n",
    "* O efeito de acurácia baixa também foi similar ao do *Bag of Words* para os algoritmos *Naive Bayes* e Regressão Logistica.\n",
    "* O recall da Regressão Logistica apresentou o mesmo pico, sendo ligeiramente maior do que o da implementação com *Bag of Words*"
   ]
  },
  {
   "cell_type": "markdown",
   "metadata": {},
   "source": [
    "# Análise Preliminar dos Resultados\n"
   ]
  },
  {
   "cell_type": "markdown",
   "metadata": {},
   "source": [
    "### Para a análise dos resultados será considerada a execução com os seguintes parâmetros:\n",
    "\n",
    "* Sem aplicação de *lowercase*\n",
    "* Com remoção de caracteres \"não ASCII\"\n",
    "* Sem remoção de *stopwords*\n",
    "* Com a aplicação da técnica *bag of words*\n",
    "\n",
    "#### Os resultados são compostos das seguintes métricas, e seus resultados:\n",
    "\n",
    "* Acurácia: 0,80\n",
    "* Recall:   0,78\n",
    "* F1 Score: 0,81\n",
    "\n",
    "Apesar de acertar aproximadamente o gênero de 8 autores(as) a cada 10 vez, o recall do algoritmo é consideravelmente alto, o que significa que consegue identificar com uma boa margem aqueles o qual ele selecionou como sendo de cada gênero.\n",
    "Todavia, observando a F1 Score, podemos inferir que a precisão do algoritmo é bem similar ao recall, o que mostra que o algoritmo teve um acerto parecido para ambos os gêneros"
   ]
  },
  {
   "cell_type": "code",
   "execution_count": 20,
   "metadata": {},
   "outputs": [
    {
     "data": {
      "image/png": "[encoded data removed]",
      "text/plain": [
       "<Figure size 432x288 with 1 Axes>"
      ]
     },
     "metadata": {
      "needs_background": "light"
     },
     "output_type": "display_data"
    }
   ],
   "source": [
    "listOfResults = [d[2][1][0], d[2][1][1], d[2][1][2]]\n",
    "listOfMetrics = ['Acuracia', 'Recall', 'F1 Score']\n",
    "plotMetrics(listOfResults, listOfMetrics)"
   ]
  },
  {
   "cell_type": "code",
   "execution_count": 21,
   "metadata": {},
   "outputs": [
    {
     "name": "stdout",
     "output_type": "stream",
     "text": [
      "Matrix de Confusão\n",
      "Matrix de Confusão Normalizada\n"
     ]
    },
    {
     "data": {
      "image/png": "[encoded data removed]",
      "text/plain": [
       "<Figure size 432x288 with 2 Axes>"
      ]
     },
     "metadata": {
      "needs_background": "light"
     },
     "output_type": "display_data"
    },
    {
     "data": {
      "image/png": "[encoded data removed]",
      "text/plain": [
       "<Figure size 432x288 with 2 Axes>"
      ]
     },
     "metadata": {
      "needs_background": "light"
     },
     "output_type": "display_data"
    }
   ],
   "source": [
    "np.set_printoptions(precision=2)\n",
    "cl = ['Autores', 'Autoras']\n",
    "cl = np.asarray(cl)\n",
    "plot_confusion_matrix(cl, d[2][1][3])\n",
    "plot_confusion_matrix(cl, d[2][1][3], normalize=True)\n",
    "plt.show()"
   ]
  },
  {
   "cell_type": "markdown",
   "metadata": {},
   "source": [
    "### Com base na Matriz de Confusão, pode-se observar que o Algoritmo tem uma maior acerto (cerca de 4% a mais) quando identifica os autores, o que é o oposto se compararmos com a tarefa 1 (a qual leva somente o titulo do livro em consideração) na qual o algoritmo identifica certamente mais as autoras (cerca de 20% de diferença em relação a autores).\n",
    "\n",
    "### Com os dados da matriz de confusão e da F1 score, podemos concluir que há sim como identificar o gênero do autor(a) com base no conjunto de dados utilizado. E também que há um certo equilibrio nos acertos e erros que o algoritmo comete."
   ]
  }
 ],
 "metadata": {
  "kernelspec": {
   "display_name": "Python 3",
   "language": "python",
   "name": "python3"
  },
  "language_info": {
   "codemirror_mode": {
    "name": "ipython",
    "version": 3
   },
   "file_extension": ".py",
   "mimetype": "text/x-python",
   "name": "python",
   "nbconvert_exporter": "python",
   "pygments_lexer": "ipython3",
   "version": "3.7.4"
  }
 },
 "nbformat": 4,
 "nbformat_minor": 2
}
