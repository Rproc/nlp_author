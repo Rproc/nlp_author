{
 "cells": [
  {
   "cell_type": "code",
   "execution_count": 1,
   "metadata": {},
   "outputs": [],
   "source": [
    "from sklearn import model_selection, preprocessing, linear_model, naive_bayes, metrics, svm\n",
    "from sklearn.feature_extraction.text import TfidfVectorizer, CountVectorizer\n",
    "from sklearn import decomposition, ensemble\n",
    "import matplotlib.pyplot as plt\n",
    "import warnings\n",
    "import re\n",
    "import pandas as pd, numpy as np, string\n",
    "from sklearn_pandas import DataFrameMapper, cross_val_score\n",
    "warnings.filterwarnings('ignore')"
   ]
  },
  {
   "cell_type": "code",
   "execution_count": 24,
   "metadata": {},
   "outputs": [],
   "source": [
    "dataset = pd.read_csv('dataset/good_reads_final.csv')\n"
   ]
  },
  {
   "cell_type": "code",
   "execution_count": 25,
   "metadata": {},
   "outputs": [
    {
     "data": {
      "text/plain": [
       "Index(['author_average_rating', 'author_gender', 'author_genres', 'author_id',\n",
       "       'author_name', 'author_page_url', 'author_rating_count',\n",
       "       'author_review_count', 'birthplace', 'book_average_rating',\n",
       "       'book_fullurl', 'book_id', 'book_title', 'genre_1', 'genre_2',\n",
       "       'num_ratings', 'num_reviews', 'pages', 'publish_date', 'score'],\n",
       "      dtype='object')"
      ]
     },
     "execution_count": 25,
     "metadata": {},
     "output_type": "execute_result"
    }
   ],
   "source": [
    "dataset.columns"
   ]
  },
  {
   "cell_type": "code",
   "execution_count": 26,
   "metadata": {},
   "outputs": [],
   "source": [
    "# y = dataset[['']]\n",
    "dataset = dataset[['author_average_rating', 'author_gender', 'author_genres', 'author_rating_count', 'author_review_count', 'birthplace', 'book_average_rating', 'book_id', 'book_title', 'genre_1', 'genre_2', 'num_ratings', 'num_reviews', 'pages', 'publish_date', 'score']]\n"
   ]
  },
  {
   "cell_type": "markdown",
   "metadata": {},
   "source": [
    "##### Página URL do Autor(a) foi retirado também devido a conter o nome dos Autores(as)\n",
    "##### URL do Livro também foi retirada devido a trazer apenas informações que podem ser derivadas das outras *features*\n",
    "##### O ano de publicação também foi retirado devido a inconsistencia da tabela (um número consideravel célulaapresentavam (?)\n"
   ]
  },
  {
   "cell_type": "code",
   "execution_count": 27,
   "metadata": {
    "scrolled": true
   },
   "outputs": [],
   "source": [
    "# dataset.head(5)"
   ]
  },
  {
   "cell_type": "code",
   "execution_count": 28,
   "metadata": {},
   "outputs": [],
   "source": [
    "# (Jan(uary)?|Feb(ruary)?|Mar(ch)?|Apr(il)?|May|Jun(e)?|Jul(y)?|Aug(ust)?|Sep(tember)?|Oct(ober)?|Nov(ember)?|Dec(ember)?)((\\s*\\d{1,2}(th|st|rd|nd)|(\\s+\\d{1,2},?)|))"
   ]
  },
  {
   "cell_type": "code",
   "execution_count": 29,
   "metadata": {},
   "outputs": [],
   "source": [
    "dataset = dataset.replace(to_replace=r'(Jan(uary)?|Feb(ruary)?|Mar(ch)?|Apr(il)?|May|Jun(e)?|Jul(y)?|Aug(ust)?|Sep(tember)?|Oct(ober)?|Nov(ember)?|Dec(ember)?)', value='', regex=True)"
   ]
  },
  {
   "cell_type": "code",
   "execution_count": 30,
   "metadata": {},
   "outputs": [],
   "source": [
    "# dataset.head(5)"
   ]
  },
  {
   "cell_type": "code",
   "execution_count": 31,
   "metadata": {},
   "outputs": [],
   "source": [
    "dataset = dataset.replace(to_replace=r'(\\d{1,2}(th|nd|st|rd))', value='', regex=True)\n",
    "# dataset = dataset.replace(to_replace=r'(\\bby\\b)', value=None, regex=Tr"
   ]
  },
  {
   "cell_type": "code",
   "execution_count": 32,
   "metadata": {},
   "outputs": [],
   "source": [
    "# dataset.head(5)"
   ]
  },
  {
   "cell_type": "code",
   "execution_count": 33,
   "metadata": {},
   "outputs": [
    {
     "name": "stdout",
     "output_type": "stream",
     "text": [
      "RangeIndex(start=0, stop=22891, step=1)\n"
     ]
    }
   ],
   "source": [
    "# dataset['publish_date'] = dataset['publish_date'].astype(int)\n",
    "print(dataset.index)"
   ]
  },
  {
   "cell_type": "code",
   "execution_count": 34,
   "metadata": {},
   "outputs": [],
   "source": [
    "dataset = dataset[dataset.publish_date != 'by']\n"
   ]
  },
  {
   "cell_type": "code",
   "execution_count": 35,
   "metadata": {},
   "outputs": [],
   "source": [
    "# print(dataset.index)"
   ]
  },
  {
   "cell_type": "code",
   "execution_count": 36,
   "metadata": {},
   "outputs": [],
   "source": [
    "# dataset.dtypes"
   ]
  },
  {
   "cell_type": "code",
   "execution_count": 50,
   "metadata": {},
   "outputs": [],
   "source": [
    "# print(dataset[dataset['publish_date'].isnull()])\n",
    "dataset['publish_date'] = pd.to_numeric(dataset['publish_date'], errors='coerce')\n",
    "dataset =dataset.dropna(subset=['publish_date'])\n",
    "dataset['publish_date'] = dataset['publish_date'].astype(int)\n",
    "dataset['author_genres'] = dataset['author_genres'].astype(str)\n",
    "dataset['birthplace'] = dataset['birthplace'].astype(str)\n",
    "dataset['book_title'] = dataset['book_title'].astype(str)\n",
    "dataset['genre_1'] = dataset['genre_1'].astype(str)\n",
    "dataset['genre_2'] = dataset['genre_2'].astype(str)\n",
    "\n"
   ]
  },
  {
   "cell_type": "code",
   "execution_count": 38,
   "metadata": {},
   "outputs": [],
   "source": [
    "# dataset.dtypes"
   ]
  },
  {
   "cell_type": "code",
   "execution_count": 51,
   "metadata": {},
   "outputs": [],
   "source": [
    "dataset['author_average_rating'] = np.where(dataset['author_average_rating'] > 100.0, dataset['author_average_rating']/100, dataset['author_average_rating'])\n",
    "dataset['book_average_rating'] = np.where(dataset['book_average_rating'] > 100.0, dataset['book_average_rating']/100, dataset['book_average_rating'])\n"
   ]
  },
  {
   "cell_type": "code",
   "execution_count": 52,
   "metadata": {},
   "outputs": [],
   "source": [
    "# dataset.tail(5)"
   ]
  },
  {
   "cell_type": "code",
   "execution_count": 59,
   "metadata": {},
   "outputs": [],
   "source": [
    "mapper = DataFrameMapper([(['author_average_rating', 'author_rating_count', 'author_review_count', 'book_average_rating', 'num_ratings', 'num_reviews', 'pages', 'score'], None),\n",
    "                          (['publish_date'], preprocessing.StandardScaler()),\n",
    "                          (['author_gender'], preprocessing.LabelEncoder())\n",
    "\n",
    "], df_out=True)"
   ]
  },
  {
   "cell_type": "code",
   "execution_count": 60,
   "metadata": {},
   "outputs": [
    {
     "data": {
      "text/plain": [
       "DataFrameMapper(default=False, df_out=True,\n",
       "                features=[(['author_average_rating', 'author_rating_count',\n",
       "                            'author_review_count', 'book_average_rating',\n",
       "                            'num_ratings', 'num_reviews', 'pages', 'score'],\n",
       "                           None),\n",
       "                          (['publish_date'],\n",
       "                           StandardScaler(copy=True, with_mean=True,\n",
       "                                          with_std=True)),\n",
       "                          (['author_gender'], LabelEncoder())],\n",
       "                input_df=False, sparse=False)"
      ]
     },
     "execution_count": 60,
     "metadata": {},
     "output_type": "execute_result"
    }
   ],
   "source": [
    "mapper"
   ]
  },
  {
   "cell_type": "code",
   "execution_count": 61,
   "metadata": {},
   "outputs": [],
   "source": [
    "df = mapper.fit_transform(dataset.copy())"
   ]
  },
  {
   "cell_type": "code",
   "execution_count": 62,
   "metadata": {},
   "outputs": [
    {
     "data": {
      "text/html": [
       "<div>\n",
       "<style scoped>\n",
       "    .dataframe tbody tr th:only-of-type {\n",
       "        vertical-align: middle;\n",
       "    }\n",
       "\n",
       "    .dataframe tbody tr th {\n",
       "        vertical-align: top;\n",
       "    }\n",
       "\n",
       "    .dataframe thead th {\n",
       "        text-align: right;\n",
       "    }\n",
       "</style>\n",
       "<table border=\"1\" class=\"dataframe\">\n",
       "  <thead>\n",
       "    <tr style=\"text-align: right;\">\n",
       "      <th></th>\n",
       "      <th>author_average_rating_author_rating_count_author_review_count_book_average_rating_num_ratings_num_reviews_pages_score_0</th>\n",
       "      <th>author_average_rating_author_rating_count_author_review_count_book_average_rating_num_ratings_num_reviews_pages_score_1</th>\n",
       "      <th>author_average_rating_author_rating_count_author_review_count_book_average_rating_num_ratings_num_reviews_pages_score_2</th>\n",
       "      <th>author_average_rating_author_rating_count_author_review_count_book_average_rating_num_ratings_num_reviews_pages_score_3</th>\n",
       "      <th>author_average_rating_author_rating_count_author_review_count_book_average_rating_num_ratings_num_reviews_pages_score_4</th>\n",
       "      <th>author_average_rating_author_rating_count_author_review_count_book_average_rating_num_ratings_num_reviews_pages_score_5</th>\n",
       "      <th>author_average_rating_author_rating_count_author_review_count_book_average_rating_num_ratings_num_reviews_pages_score_6</th>\n",
       "      <th>author_average_rating_author_rating_count_author_review_count_book_average_rating_num_ratings_num_reviews_pages_score_7</th>\n",
       "      <th>publish_date</th>\n",
       "      <th>author_gender</th>\n",
       "    </tr>\n",
       "  </thead>\n",
       "  <tbody>\n",
       "    <tr>\n",
       "      <td>0</td>\n",
       "      <td>4.01</td>\n",
       "      <td>74399.0</td>\n",
       "      <td>6268.0</td>\n",
       "      <td>4.02</td>\n",
       "      <td>5260.0</td>\n",
       "      <td>375.0</td>\n",
       "      <td>277.0</td>\n",
       "      <td>3230.0</td>\n",
       "      <td>0.073614</td>\n",
       "      <td>0</td>\n",
       "    </tr>\n",
       "    <tr>\n",
       "      <td>1</td>\n",
       "      <td>4.15</td>\n",
       "      <td>3726435.0</td>\n",
       "      <td>142704.0</td>\n",
       "      <td>4.13</td>\n",
       "      <td>2229163.0</td>\n",
       "      <td>65227.0</td>\n",
       "      <td>465.0</td>\n",
       "      <td>3062.0</td>\n",
       "      <td>0.110497</td>\n",
       "      <td>1</td>\n",
       "    </tr>\n",
       "    <tr>\n",
       "      <td>2</td>\n",
       "      <td>4.00</td>\n",
       "      <td>76496.0</td>\n",
       "      <td>7975.0</td>\n",
       "      <td>3.99</td>\n",
       "      <td>2151.0</td>\n",
       "      <td>391.0</td>\n",
       "      <td>354.0</td>\n",
       "      <td>4585.0</td>\n",
       "      <td>0.191640</td>\n",
       "      <td>0</td>\n",
       "    </tr>\n",
       "    <tr>\n",
       "      <td>3</td>\n",
       "      <td>3.88</td>\n",
       "      <td>5522.0</td>\n",
       "      <td>489.0</td>\n",
       "      <td>4.14</td>\n",
       "      <td>1844.0</td>\n",
       "      <td>173.0</td>\n",
       "      <td>438.0</td>\n",
       "      <td>1533.0</td>\n",
       "      <td>-0.147686</td>\n",
       "      <td>1</td>\n",
       "    </tr>\n",
       "    <tr>\n",
       "      <td>4</td>\n",
       "      <td>4.10</td>\n",
       "      <td>291013.0</td>\n",
       "      <td>13453.0</td>\n",
       "      <td>4.01</td>\n",
       "      <td>17051.0</td>\n",
       "      <td>1890.0</td>\n",
       "      <td>326.0</td>\n",
       "      <td>2105.0</td>\n",
       "      <td>-0.014906</td>\n",
       "      <td>0</td>\n",
       "    </tr>\n",
       "    <tr>\n",
       "      <td>...</td>\n",
       "      <td>...</td>\n",
       "      <td>...</td>\n",
       "      <td>...</td>\n",
       "      <td>...</td>\n",
       "      <td>...</td>\n",
       "      <td>...</td>\n",
       "      <td>...</td>\n",
       "      <td>...</td>\n",
       "      <td>...</td>\n",
       "      <td>...</td>\n",
       "    </tr>\n",
       "    <tr>\n",
       "      <td>22886</td>\n",
       "      <td>3.94</td>\n",
       "      <td>52944.0</td>\n",
       "      <td>4558.0</td>\n",
       "      <td>3.82</td>\n",
       "      <td>430.0</td>\n",
       "      <td>33.0</td>\n",
       "      <td>72.0</td>\n",
       "      <td>1215.0</td>\n",
       "      <td>0.184263</td>\n",
       "      <td>0</td>\n",
       "    </tr>\n",
       "    <tr>\n",
       "      <td>22887</td>\n",
       "      <td>4.29</td>\n",
       "      <td>902.0</td>\n",
       "      <td>428.0</td>\n",
       "      <td>4.56</td>\n",
       "      <td>82.0</td>\n",
       "      <td>57.0</td>\n",
       "      <td>342.0</td>\n",
       "      <td>1321.0</td>\n",
       "      <td>0.176887</td>\n",
       "      <td>1</td>\n",
       "    </tr>\n",
       "    <tr>\n",
       "      <td>22888</td>\n",
       "      <td>4.00</td>\n",
       "      <td>15626.0</td>\n",
       "      <td>3530.0</td>\n",
       "      <td>3.73</td>\n",
       "      <td>2698.0</td>\n",
       "      <td>375.0</td>\n",
       "      <td>237.0</td>\n",
       "      <td>1679.0</td>\n",
       "      <td>0.176887</td>\n",
       "      <td>0</td>\n",
       "    </tr>\n",
       "    <tr>\n",
       "      <td>22889</td>\n",
       "      <td>4.20</td>\n",
       "      <td>4689.0</td>\n",
       "      <td>828.0</td>\n",
       "      <td>3.89</td>\n",
       "      <td>356.0</td>\n",
       "      <td>38.0</td>\n",
       "      <td>222.0</td>\n",
       "      <td>1897.0</td>\n",
       "      <td>0.162133</td>\n",
       "      <td>0</td>\n",
       "    </tr>\n",
       "    <tr>\n",
       "      <td>22890</td>\n",
       "      <td>4.07</td>\n",
       "      <td>1936.0</td>\n",
       "      <td>293.0</td>\n",
       "      <td>4.57</td>\n",
       "      <td>88.0</td>\n",
       "      <td>14.0</td>\n",
       "      <td>272.0</td>\n",
       "      <td>3250.0</td>\n",
       "      <td>0.176887</td>\n",
       "      <td>1</td>\n",
       "    </tr>\n",
       "  </tbody>\n",
       "</table>\n",
       "<p>22150 rows × 10 columns</p>\n",
       "</div>"
      ],
      "text/plain": [
       "       author_average_rating_author_rating_count_author_review_count_book_average_rating_num_ratings_num_reviews_pages_score_0  \\\n",
       "0                                                   4.01                                                                         \n",
       "1                                                   4.15                                                                         \n",
       "2                                                   4.00                                                                         \n",
       "3                                                   3.88                                                                         \n",
       "4                                                   4.10                                                                         \n",
       "...                                                  ...                                                                         \n",
       "22886                                               3.94                                                                         \n",
       "22887                                               4.29                                                                         \n",
       "22888                                               4.00                                                                         \n",
       "22889                                               4.20                                                                         \n",
       "22890                                               4.07                                                                         \n",
       "\n",
       "       author_average_rating_author_rating_count_author_review_count_book_average_rating_num_ratings_num_reviews_pages_score_1  \\\n",
       "0                                                74399.0                                                                         \n",
       "1                                              3726435.0                                                                         \n",
       "2                                                76496.0                                                                         \n",
       "3                                                 5522.0                                                                         \n",
       "4                                               291013.0                                                                         \n",
       "...                                                  ...                                                                         \n",
       "22886                                            52944.0                                                                         \n",
       "22887                                              902.0                                                                         \n",
       "22888                                            15626.0                                                                         \n",
       "22889                                             4689.0                                                                         \n",
       "22890                                             1936.0                                                                         \n",
       "\n",
       "       author_average_rating_author_rating_count_author_review_count_book_average_rating_num_ratings_num_reviews_pages_score_2  \\\n",
       "0                                                 6268.0                                                                         \n",
       "1                                               142704.0                                                                         \n",
       "2                                                 7975.0                                                                         \n",
       "3                                                  489.0                                                                         \n",
       "4                                                13453.0                                                                         \n",
       "...                                                  ...                                                                         \n",
       "22886                                             4558.0                                                                         \n",
       "22887                                              428.0                                                                         \n",
       "22888                                             3530.0                                                                         \n",
       "22889                                              828.0                                                                         \n",
       "22890                                              293.0                                                                         \n",
       "\n",
       "       author_average_rating_author_rating_count_author_review_count_book_average_rating_num_ratings_num_reviews_pages_score_3  \\\n",
       "0                                                   4.02                                                                         \n",
       "1                                                   4.13                                                                         \n",
       "2                                                   3.99                                                                         \n",
       "3                                                   4.14                                                                         \n",
       "4                                                   4.01                                                                         \n",
       "...                                                  ...                                                                         \n",
       "22886                                               3.82                                                                         \n",
       "22887                                               4.56                                                                         \n",
       "22888                                               3.73                                                                         \n",
       "22889                                               3.89                                                                         \n",
       "22890                                               4.57                                                                         \n",
       "\n",
       "       author_average_rating_author_rating_count_author_review_count_book_average_rating_num_ratings_num_reviews_pages_score_4  \\\n",
       "0                                                 5260.0                                                                         \n",
       "1                                              2229163.0                                                                         \n",
       "2                                                 2151.0                                                                         \n",
       "3                                                 1844.0                                                                         \n",
       "4                                                17051.0                                                                         \n",
       "...                                                  ...                                                                         \n",
       "22886                                              430.0                                                                         \n",
       "22887                                               82.0                                                                         \n",
       "22888                                             2698.0                                                                         \n",
       "22889                                              356.0                                                                         \n",
       "22890                                               88.0                                                                         \n",
       "\n",
       "       author_average_rating_author_rating_count_author_review_count_book_average_rating_num_ratings_num_reviews_pages_score_5  \\\n",
       "0                                                  375.0                                                                         \n",
       "1                                                65227.0                                                                         \n",
       "2                                                  391.0                                                                         \n",
       "3                                                  173.0                                                                         \n",
       "4                                                 1890.0                                                                         \n",
       "...                                                  ...                                                                         \n",
       "22886                                               33.0                                                                         \n",
       "22887                                               57.0                                                                         \n",
       "22888                                              375.0                                                                         \n",
       "22889                                               38.0                                                                         \n",
       "22890                                               14.0                                                                         \n",
       "\n",
       "       author_average_rating_author_rating_count_author_review_count_book_average_rating_num_ratings_num_reviews_pages_score_6  \\\n",
       "0                                                  277.0                                                                         \n",
       "1                                                  465.0                                                                         \n",
       "2                                                  354.0                                                                         \n",
       "3                                                  438.0                                                                         \n",
       "4                                                  326.0                                                                         \n",
       "...                                                  ...                                                                         \n",
       "22886                                               72.0                                                                         \n",
       "22887                                              342.0                                                                         \n",
       "22888                                              237.0                                                                         \n",
       "22889                                              222.0                                                                         \n",
       "22890                                              272.0                                                                         \n",
       "\n",
       "       author_average_rating_author_rating_count_author_review_count_book_average_rating_num_ratings_num_reviews_pages_score_7  \\\n",
       "0                                                 3230.0                                                                         \n",
       "1                                                 3062.0                                                                         \n",
       "2                                                 4585.0                                                                         \n",
       "3                                                 1533.0                                                                         \n",
       "4                                                 2105.0                                                                         \n",
       "...                                                  ...                                                                         \n",
       "22886                                             1215.0                                                                         \n",
       "22887                                             1321.0                                                                         \n",
       "22888                                             1679.0                                                                         \n",
       "22889                                             1897.0                                                                         \n",
       "22890                                             3250.0                                                                         \n",
       "\n",
       "       publish_date  author_gender  \n",
       "0          0.073614              0  \n",
       "1          0.110497              1  \n",
       "2          0.191640              0  \n",
       "3         -0.147686              1  \n",
       "4         -0.014906              0  \n",
       "...             ...            ...  \n",
       "22886      0.184263              0  \n",
       "22887      0.176887              1  \n",
       "22888      0.176887              0  \n",
       "22889      0.162133              0  \n",
       "22890      0.176887              1  \n",
       "\n",
       "[22150 rows x 10 columns]"
      ]
     },
     "execution_count": 62,
     "metadata": {},
     "output_type": "execute_result"
    }
   ],
   "source": [
    "df"
   ]
  },
  {
   "cell_type": "code",
   "execution_count": null,
   "metadata": {},
   "outputs": [],
   "source": [
    "# X = dataset[['author_average_rating', 'author_rating_count', 'author_review_count', 'book_average_rating', 'num_ratings', 'num_reviews', 'pages', 'score']]\n",
    "# X_to_text = dataset[['author_genres', 'birthplace', 'book_title','genre_1', 'genre_2']]\n",
    "# # X_to_bynary=['publish_date']\n"
   ]
  },
  {
   "cell_type": "code",
   "execution_count": null,
   "metadata": {},
   "outputs": [],
   "source": [
    "# year_binarized = pd.DataFrame(preprocessing.LabelBinarizer().fit_transform(dataset.publish_date))\n",
    "# X = pd.concat([X,year_binarized],axis=1)\n",
    "# X.head(5)"
   ]
  },
  {
   "cell_type": "code",
   "execution_count": null,
   "metadata": {},
   "outputs": [],
   "source": [
    "encoder = preprocessing.LabelEncoder()\n",
    "y = encoder.fit_transform(y)\n",
    "# valid_y = encoder.fit_transform(valid_y)"
   ]
  },
  {
   "cell_type": "code",
   "execution_count": null,
   "metadata": {},
   "outputs": [],
   "source": [
    "def countVec(data, sw=None, sa=None, lc=True):\n",
    "    count_vect = CountVectorizer(analyzer='word', token_pattern=r'\\w{1,}', stop_words=sw, strip_accents= sa, lowercase=lc)\n",
    "    count_vect.fit(data)\n",
    "    x_count =  count_vect.transform(data)\n",
    "#     xvalid_count =  count_vect.transform(valid_x)\n",
    "    return x_count"
   ]
  },
  {
   "cell_type": "code",
   "execution_count": null,
   "metadata": {},
   "outputs": [],
   "source": [
    "def tfidfVec(data, sw=None, sa=None, lc=True):\n",
    "    tfidf_vect = TfidfVectorizer(analyzer='word', token_pattern=r'\\w{1,}', max_features=5000, stop_words=sw, strip_accents= sa, lowercase=lc)\n",
    "    tfidf_vect.fit(data)\n",
    "    xtrain_tfidf =  tfidf_vect.transform(train_x)\n",
    "    xvalid_tfidf =  tfidf_vect.transform(valid_x)\n",
    "    return xtrain_tfidf, xvalid_tfidf"
   ]
  },
  {
   "cell_type": "code",
   "execution_count": null,
   "metadata": {},
   "outputs": [],
   "source": [
    "def train_model(classifier, feature_vector_train, label, feature_vector_valid, is_neural_net=False):\n",
    "    # fit the training dataset on the classifier\n",
    "    classifier.fit(feature_vector_train, label)\n",
    "    \n",
    "    # predict the labels on validation dataset\n",
    "    predictions = classifier.predict(feature_vector_valid)\n",
    "    \n",
    "    if is_neural_net:\n",
    "        predictions = predictions.argmax(axis=-1)\n",
    "    \n",
    "    lista = []\n",
    "    lista.append(metrics.accuracy_score(valid_y, predictions))\n",
    "    lista.append(metrics.recall_score(valid_y, predictions))\n",
    "    lista.append(metrics.f1_score(valid_y, predictions))\n",
    "    lista.append(metrics.confusion_matrix(valid_y, predictions))\n",
    "    \n",
    "    return lista"
   ]
  },
  {
   "cell_type": "code",
   "execution_count": null,
   "metadata": {},
   "outputs": [],
   "source": [
    "def plotMetrics(listOfResults, listOfMetrics):\n",
    "\n",
    "    for l in range(len(listOfResults)):\n",
    "        ax = plt.axes()\n",
    "        ax.bar(l, listOfResults[l], label=listOfMetrics[l], align='center', width=0.4)\n",
    "\n",
    "    # fig = plt.figure(figsize=(1,1))\n",
    "    plt.title(\"Análise de Gênero do Autor(a) de acordo com o titulo da obra\")\n",
    "    plt.legend(listOfMetrics)\n",
    "    plt.ylabel(\"Porcentagem\")\n",
    "    plt.xlabel(\"Métricas\")\n",
    "    plt.xticks(range(len(listOfResults)))\n",
    "    plt.show()"
   ]
  },
  {
   "cell_type": "code",
   "execution_count": null,
   "metadata": {},
   "outputs": [],
   "source": [
    "def plot_confusion_matrix(classes, cm,\n",
    "                          normalize=False,\n",
    "                          title=None,\n",
    "                          cmap=plt.cm.Blues):\n",
    "    \"\"\"\n",
    "    This function prints and plots the confusion matrix.\n",
    "    Normalization can be applied by setting `normalize=True`.\n",
    "    \"\"\"\n",
    "    if not title:\n",
    "        if normalize:\n",
    "            title = 'Matrix de Confusão Normalizada'\n",
    "        else:\n",
    "            title = 'Matrix de Confusão'\n",
    "\n",
    "    # Compute confusion matrix\n",
    "    cm = cm\n",
    "    # Only use the labels that appear in the data\n",
    "    classes = classes\n",
    "    if normalize:\n",
    "        cm = cm.astype('float') / cm.sum(axis=1)[:, np.newaxis]\n",
    "        print(\"Matrix de Confusão Normalizada\")\n",
    "    else:\n",
    "        print('Matrix de Confusão')\n",
    "\n",
    "#     print(cm)\n",
    "\n",
    "    fig, ax = plt.subplots()\n",
    "    im = ax.imshow(cm, interpolation='nearest', cmap=cmap)\n",
    "    ax.figure.colorbar(im, ax=ax)\n",
    "    # We want to show all ticks...\n",
    "    ax.set(xticks=np.arange(cm.shape[1]),\n",
    "           yticks=np.arange(cm.shape[0]),\n",
    "           # ... and label them with the respective list entries\n",
    "           xticklabels=classes, yticklabels=classes,\n",
    "           title=title,\n",
    "           ylabel='Rotulo Verdadeiro',\n",
    "           xlabel='Rotulo Predito')\n",
    "\n",
    "    # Rotate the tick labels and set their alignment.\n",
    "    plt.setp(ax.get_xticklabels(), rotation=45, ha=\"right\",\n",
    "             rotation_mode=\"anchor\")\n",
    "\n",
    "    # Loop over data dimensions and create text annotations.\n",
    "    fmt = '.2f' if normalize else 'd'\n",
    "    thresh = cm.max() / 2.\n",
    "    for i in range(cm.shape[0]):\n",
    "        for j in range(cm.shape[1]):\n",
    "            if i == 0:\n",
    "                ax.text(j, i+0.2, format(cm[i, j], fmt),\n",
    "                    ha=\"center\", va=\"center\",\n",
    "                    color=\"white\" if cm[i, j] > thresh else \"black\")\n",
    "            else:\n",
    "                ax.text(j, i-0.2, format(cm[i, j], fmt),\n",
    "                    ha=\"center\", va=\"center\",\n",
    "                    color=\"white\" if cm[i, j] > thresh else \"black\")\n",
    "    fig.tight_layout()\n",
    "    return ax\n"
   ]
  },
  {
   "cell_type": "code",
   "execution_count": null,
   "metadata": {},
   "outputs": [],
   "source": [
    "models = [naive_bayes.MultinomialNB(), linear_model.LogisticRegression(), ensemble.RandomForestClassifier()]\n",
    "features = [['english', None, True], ['english', 'ascii', True], \n",
    "            ['english', None, False], ['english', 'ascii', False], \n",
    "            [None, 'ascii', True], [None, 'ascii', False]]"
   ]
  },
  {
   "cell_type": "markdown",
   "metadata": {},
   "source": [
    "# Para Bag of Words"
   ]
  },
  {
   "cell_type": "code",
   "execution_count": null,
   "metadata": {},
   "outputs": [],
   "source": [
    "x_count = countVec(X_to_text, None, 'ascii', False)\n",
    "X = pd.concat([X,x_count],axis=1)\n",
    "\n",
    "train_x, valid_x, train_y, valid_y = model_selection.train_test_split(X,y, test_size = 0.2)\n",
    "\n",
    "l = train_model(md, xtrain_count, train_y, xvalid_count)"
   ]
  },
  {
   "cell_type": "code",
   "execution_count": null,
   "metadata": {},
   "outputs": [],
   "source": [
    "d = {}\n",
    "l = []\n",
    "i = 0\n",
    "for md in models:\n",
    "    l.append(md)\n",
    "    for f in features:\n",
    "        x_count = countVec(X_to_text, f[0], f[1], f[2])\n",
    "        X = pd.concat([X,x_count],axis=1)\n",
    "\n",
    "        train_x, valid_x, train_y, valid_y = model_selection.train_test_split(X,y, test_size = 0.2)\n",
    "\n",
    "        l.append(train_model(md, xtrain_count, train_y, xvalid_count))\n",
    "    d[i] = l\n",
    "    i+=1\n",
    "    l = []\n"
   ]
  },
  {
   "cell_type": "code",
   "execution_count": null,
   "metadata": {},
   "outputs": [],
   "source": [
    "for item in d.items():\n",
    "    print(item, '\\n')"
   ]
  },
  {
   "cell_type": "markdown",
   "metadata": {},
   "source": [
    "### Com o print acima, podemos concluir que utilizando o método Bag of Words e os três algoritmos:\n",
    "\n",
    "* Que o melhor cenário é não por todas as palavras em caixa baixa com remoção de caracteres não ASCII e sem remoção de stopwords;\n",
    "* A remoção de StopWords, nesse caso apenas atrapalha o desempenho do algoritmo;\n",
    "* Já a remoção de caracteres \"não ascii\" mostrou-se vantajosa;\n",
    "* O algoritmo de Floresta Randômica, foi o que se saiu melhor neste experimento."
   ]
  },
  {
   "cell_type": "markdown",
   "metadata": {},
   "source": [
    "# Para TFIDF"
   ]
  },
  {
   "cell_type": "code",
   "execution_count": null,
   "metadata": {},
   "outputs": [],
   "source": [
    "d2 = {}\n",
    "l2 = []\n",
    "i = 0\n",
    "for md in models:\n",
    "    l2.append(md)\n",
    "    for f in features:\n",
    "        xtrain_tfidf, xvalid_tfidf = tfidfVec(dataset['book_title'], f[0], f[1], f[2])\n",
    "        l2.append(train_model(md, xtrain_tfidf, train_y, xvalid_tfidf))\n",
    "    d2[i] = l2\n",
    "    i+=1\n",
    "    l2 = []"
   ]
  },
  {
   "cell_type": "code",
   "execution_count": null,
   "metadata": {},
   "outputs": [],
   "source": [
    "for item in d2.items():\n",
    "    print(item, '\\n')"
   ]
  },
  {
   "cell_type": "markdown",
   "metadata": {},
   "source": [
    "### Com o print acima, podemos concluir que utilizando o método TFIDF e os três algoritmos:\n",
    "\n",
    "* Que o melhor cenário é não por todas as palavras em caixa baixa com remoção de caracteres não ASCII e sem remoção de stopwords;\n",
    "* A remoção de StopWords, nesse caso apenas atrapalha o desempenho do algoritmo;\n",
    "* Já a remoção de caracteres \"não ascii\" mostrou-se vantajosa;\n",
    "* Mas uma vez o algoritmo de Floresta Randômica, foi o que se saiu melhor neste experimento.\n",
    "* Podemos observar também que o uso da técnica TFIDF, mostrou-se obter resultados piores do que uma técnica mais simples como o Bag of Words"
   ]
  },
  {
   "cell_type": "markdown",
   "metadata": {},
   "source": [
    "# Análise Preliminar dos Resultados\n"
   ]
  },
  {
   "cell_type": "markdown",
   "metadata": {},
   "source": [
    "### Para a análise dos resultados será considerada a execução com os seguintes parâmetros:\n",
    "\n",
    "* Sem aplicação de *lowercase*\n",
    "* Com remoção de caracteres \"não ASCII\"\n",
    "* Sem remoção de *stopwords*\n",
    "* Com a aplicação da técnica *bag of words*\n",
    "\n",
    "#### Os resultados são compostos das seguintes métricas, e seus resultados:\n",
    "\n",
    "* Acurácia: 0,73\n",
    "* Recall:   0,82\n",
    "* F1 Score: 0,77\n",
    "\n",
    "Apesar de acertar aproximadamente o gênero de 7 autores(as) a cada 10 vez, o recall do algoritmo é consideravelmente alto, o que significa que consegue identificar com uma boa margem aqueles o qual ele selecionou como sendo de cada gênero.\n",
    "Todavia, observando a F1 Score, podemos inferir que a precisão do algoritmo é bem inferior ao recall, o que faz com que muitos titulos tenham sido atribuídos ao gênero errado."
   ]
  },
  {
   "cell_type": "code",
   "execution_count": null,
   "metadata": {},
   "outputs": [],
   "source": [
    "listOfResults = [d2[2][6][0], d2[2][6][1], d2[2][6][2]]\n",
    "listOfMetrics = ['Acuracia', 'Recall', 'F1 Score']\n",
    "plotMetrics(listOfResults, listOfMetrics)"
   ]
  },
  {
   "cell_type": "code",
   "execution_count": null,
   "metadata": {},
   "outputs": [],
   "source": [
    "np.set_printoptions(precision=2)\n",
    "cl = ['Homem', 'Mulher']\n",
    "cl = np.asarray(cl)\n",
    "plot_confusion_matrix(cl, d[2][6][3])\n",
    "plot_confusion_matrix(cl, d[2][6][3], normalize=True)\n",
    "plt.show()"
   ]
  },
  {
   "cell_type": "markdown",
   "metadata": {},
   "source": [
    "### Com base na Matriz de Confusão, pode-se observar que o Algoritmo tem uma maior acerto (cerca de 20% a mais) quando identifica as autoras, logo ele classifica muito livro que é escrito por um autor, como sendo escrito por uma autora."
   ]
  }
 ],
 "metadata": {
  "kernelspec": {
   "display_name": "Python 3",
   "language": "python",
   "name": "python3"
  },
  "language_info": {
   "codemirror_mode": {
    "name": "ipython",
    "version": 3
   },
   "file_extension": ".py",
   "mimetype": "text/x-python",
   "name": "python",
   "nbconvert_exporter": "python",
   "pygments_lexer": "ipython3",
   "version": "3.7.4"
  }
 },
 "nbformat": 4,
 "nbformat_minor": 2
}
