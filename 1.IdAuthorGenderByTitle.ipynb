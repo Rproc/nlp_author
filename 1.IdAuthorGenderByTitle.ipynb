{
 "cells": [
  {
   "cell_type": "code",
   "execution_count": 1,
   "metadata": {},
   "outputs": [],
   "source": [
    "from sklearn import model_selection, preprocessing, linear_model, naive_bayes, metrics, svm\n",
    "from sklearn.feature_extraction.text import TfidfVectorizer, CountVectorizer\n",
    "from sklearn import decomposition, ensemble\n",
    "import matplotlib.pyplot as plt\n",
    "import warnings\n",
    "\n",
    "import pandas as pd, numpy as np, string\n",
    "\n",
    "warnings.filterwarnings('ignore')"
   ]
  },
  {
   "cell_type": "code",
   "execution_count": 2,
   "metadata": {},
   "outputs": [],
   "source": [
    "dataset = pd.read_csv('dataset/good_reads_final.csv')"
   ]
  },
  {
   "cell_type": "code",
   "execution_count": 3,
   "metadata": {},
   "outputs": [
    {
     "data": {
      "text/plain": [
       "Index(['author_average_rating', 'author_gender', 'author_genres', 'author_id',\n",
       "       'author_name', 'author_page_url', 'author_rating_count',\n",
       "       'author_review_count', 'birthplace', 'book_average_rating',\n",
       "       'book_fullurl', 'book_id', 'book_title', 'genre_1', 'genre_2',\n",
       "       'num_ratings', 'num_reviews', 'pages', 'publish_date', 'score'],\n",
       "      dtype='object')"
      ]
     },
     "execution_count": 3,
     "metadata": {},
     "output_type": "execute_result"
    }
   ],
   "source": [
    "dataset.columns"
   ]
  },
  {
   "cell_type": "code",
   "execution_count": 4,
   "metadata": {},
   "outputs": [],
   "source": [
    "train_x, valid_x, train_y, valid_y = model_selection.train_test_split(dataset['book_title'], dataset['author_gender'], test_size = 0.2)"
   ]
  },
  {
   "cell_type": "code",
   "execution_count": 5,
   "metadata": {},
   "outputs": [],
   "source": [
    "encoder = preprocessing.LabelEncoder()\n",
    "train_y = encoder.fit_transform(train_y)\n",
    "valid_y = encoder.fit_transform(valid_y)"
   ]
  },
  {
   "cell_type": "code",
   "execution_count": 6,
   "metadata": {},
   "outputs": [],
   "source": [
    "def countVec(data, sw=None, sa=None, lc=True):\n",
    "    count_vect = CountVectorizer(analyzer='word', token_pattern=r'\\w{1,}', stop_words=sw, strip_accents= sa, lowercase=lc)\n",
    "    count_vect.fit(data)\n",
    "    xtrain_count =  count_vect.transform(train_x)\n",
    "    xvalid_count =  count_vect.transform(valid_x)\n",
    "    return xtrain_count, xvalid_count"
   ]
  },
  {
   "cell_type": "code",
   "execution_count": 7,
   "metadata": {},
   "outputs": [],
   "source": [
    "def tfidfVec(data, sw=None, sa=None, lc=True):\n",
    "    tfidf_vect = TfidfVectorizer(analyzer='word', token_pattern=r'\\w{1,}', max_features=5000, stop_words=sw, strip_accents= sa, lowercase=lc)\n",
    "    tfidf_vect.fit(data)\n",
    "    xtrain_tfidf =  tfidf_vect.transform(train_x)\n",
    "    xvalid_tfidf =  tfidf_vect.transform(valid_x)\n",
    "    return xtrain_tfidf, xvalid_tfidf"
   ]
  },
  {
   "cell_type": "code",
   "execution_count": 8,
   "metadata": {},
   "outputs": [],
   "source": [
    "def train_model(classifier, feature_vector_train, label, feature_vector_valid, is_neural_net=False):\n",
    "    # fit the training dataset on the classifier\n",
    "    classifier.fit(feature_vector_train, label)\n",
    "    \n",
    "    # predict the labels on validation dataset\n",
    "    predictions = classifier.predict(feature_vector_valid)\n",
    "    \n",
    "    if is_neural_net:\n",
    "        predictions = predictions.argmax(axis=-1)\n",
    "    \n",
    "    lista = []\n",
    "    lista.append(metrics.accuracy_score(valid_y, predictions))\n",
    "    lista.append(metrics.recall_score(valid_y, predictions))\n",
    "    lista.append(metrics.f1_score(valid_y, predictions))\n",
    "    lista.append(metrics.confusion_matrix(valid_y, predictions))\n",
    "    \n",
    "    return lista"
   ]
  },
  {
   "cell_type": "code",
   "execution_count": 9,
   "metadata": {},
   "outputs": [],
   "source": [
    "def plotMetrics(listOfResults, listOfMetrics):\n",
    "\n",
    "    for l in range(len(listOfResults)):\n",
    "        ax = plt.axes()\n",
    "        ax.bar(l, listOfResults[l], label=listOfMetrics[l], align='center', width=0.4)\n",
    "\n",
    "    # fig = plt.figure(figsize=(1,1))\n",
    "    plt.title(\"Análise de Gênero do Autor(a) de acordo com o titulo da obra\")\n",
    "    plt.legend(listOfMetrics)\n",
    "    plt.ylabel(\"Porcentagem\")\n",
    "    plt.xlabel(\"Métricas\")\n",
    "    plt.xticks(range(len(listOfResults)))\n",
    "    plt.show()"
   ]
  },
  {
   "cell_type": "code",
   "execution_count": 10,
   "metadata": {},
   "outputs": [],
   "source": [
    "def plot_confusion_matrix(classes, cm,\n",
    "                          normalize=False,\n",
    "                          title=None,\n",
    "                          cmap=plt.cm.Blues):\n",
    "    \"\"\"\n",
    "    This function prints and plots the confusion matrix.\n",
    "    Normalization can be applied by setting `normalize=True`.\n",
    "    \"\"\"\n",
    "    if not title:\n",
    "        if normalize:\n",
    "            title = 'Matrix de Confusão Normalizada'\n",
    "        else:\n",
    "            title = 'Matrix de Confusão'\n",
    "\n",
    "    # Compute confusion matrix\n",
    "    cm = cm\n",
    "    # Only use the labels that appear in the data\n",
    "    classes = classes\n",
    "    if normalize:\n",
    "        cm = cm.astype('float') / cm.sum(axis=1)[:, np.newaxis]\n",
    "        print(\"Matrix de Confusão Normalizada\")\n",
    "    else:\n",
    "        print('Matrix de Confusão')\n",
    "\n",
    "#     print(cm)\n",
    "\n",
    "    fig, ax = plt.subplots()\n",
    "    im = ax.imshow(cm, interpolation='nearest', cmap=cmap)\n",
    "    ax.figure.colorbar(im, ax=ax)\n",
    "    # We want to show all ticks...\n",
    "    ax.set(xticks=np.arange(cm.shape[1]),\n",
    "           yticks=np.arange(cm.shape[0]),\n",
    "           # ... and label them with the respective list entries\n",
    "           xticklabels=classes, yticklabels=classes,\n",
    "           title=title,\n",
    "           ylabel='Rotulo Verdadeiro',\n",
    "           xlabel='Rotulo Predito')\n",
    "\n",
    "    # Rotate the tick labels and set their alignment.\n",
    "    plt.setp(ax.get_xticklabels(), rotation=45, ha=\"right\",\n",
    "             rotation_mode=\"anchor\")\n",
    "\n",
    "    # Loop over data dimensions and create text annotations.\n",
    "    fmt = '.2f' if normalize else 'd'\n",
    "    thresh = cm.max() / 2.\n",
    "    for i in range(cm.shape[0]):\n",
    "        for j in range(cm.shape[1]):\n",
    "            if i == 0:\n",
    "                ax.text(j, i+0.2, format(cm[i, j], fmt),\n",
    "                    ha=\"center\", va=\"center\",\n",
    "                    color=\"white\" if cm[i, j] > thresh else \"black\")\n",
    "            else:\n",
    "                ax.text(j, i-0.2, format(cm[i, j], fmt),\n",
    "                    ha=\"center\", va=\"center\",\n",
    "                    color=\"white\" if cm[i, j] > thresh else \"black\")\n",
    "    fig.tight_layout()\n",
    "    return ax\n"
   ]
  },
  {
   "cell_type": "code",
   "execution_count": 11,
   "metadata": {},
   "outputs": [],
   "source": [
    "models = [naive_bayes.MultinomialNB(), linear_model.LogisticRegression(), ensemble.RandomForestClassifier()]\n",
    "features = [['english', None, True], ['english', 'ascii', True], \n",
    "            ['english', None, False], ['english', 'ascii', False], \n",
    "            [None, 'ascii', True], [None, 'ascii', False]]"
   ]
  },
  {
   "cell_type": "markdown",
   "metadata": {},
   "source": [
    "# Para Bag of Words"
   ]
  },
  {
   "cell_type": "code",
   "execution_count": 12,
   "metadata": {},
   "outputs": [],
   "source": [
    "d = {}\n",
    "l = []\n",
    "i = 0\n",
    "for md in models:\n",
    "    l.append(md)\n",
    "    for f in features:\n",
    "        xtrain_count, xvalid_count = countVec(dataset['book_title'], f[0], f[1], f[2])\n",
    "        l.append(train_model(md, xtrain_count, train_y, xvalid_count))\n",
    "    d[i] = l\n",
    "    i+=1\n",
    "    l = []\n"
   ]
  },
  {
   "cell_type": "code",
   "execution_count": 13,
   "metadata": {},
   "outputs": [
    {
     "name": "stdout",
     "output_type": "stream",
     "text": [
      "(0, [MultinomialNB(alpha=1.0, class_prior=None, fit_prior=True), [0.6571303778117493, 0.6082180634662328, 0.6557017543859649, array([[1514,  607],\n",
      "       [ 963, 1495]])], [0.6682681808255078, 0.6366965012205045, 0.6732630673263067, array([[1495,  626],\n",
      "       [ 893, 1565]])], [0.6702336754749946, 0.6310008136696501, 0.6725932350390287, array([[1518,  603],\n",
      "       [ 907, 1551]])], [0.6791875955448788, 0.6590724165988608, 0.6880441707368867, array([[1490,  631],\n",
      "       [ 838, 1620]])], [0.6732911115964184, 0.6631407648494712, 0.6854499579478555, array([[1453,  668],\n",
      "       [ 828, 1630]])], [0.6761301594234549, 0.6659886086248983, 0.688248896363254, array([[1459,  662],\n",
      "       [ 821, 1637]])]]) \n",
      "\n",
      "(1, [LogisticRegression(C=1.0, class_weight=None, dual=False, fit_intercept=True,\n",
      "                   intercept_scaling=1, l1_ratio=None, max_iter=100,\n",
      "                   multi_class='warn', n_jobs=None, penalty='l2',\n",
      "                   random_state=None, solver='warn', tol=0.0001, verbose=0,\n",
      "                   warm_start=False), [0.6789692072504914, 0.7461350691619203, 0.7138964577656676, array([[1275,  846],\n",
      "       [ 624, 1834]])], [0.6763485477178424, 0.7526444263628966, 0.7140100347356232, array([[1247,  874],\n",
      "       [ 608, 1850]])], [0.6918541166193493, 0.7550854353132628, 0.7245754440757368, array([[1312,  809],\n",
      "       [ 602, 1856]])], [0.6920725049137366, 0.7611879576891782, 0.7263198757763975, array([[1298,  823],\n",
      "       [ 587, 1871]])], [0.6868311858484385, 0.7571196094385679, 0.7218774243599689, array([[1284,  837],\n",
      "       [ 597, 1861]])], [0.6868311858484385, 0.7563059397884458, 0.7216614906832298, array([[1286,  835],\n",
      "       [ 599, 1859]])]]) \n",
      "\n",
      "(2, [RandomForestClassifier(bootstrap=True, class_weight=None, criterion='gini',\n",
      "                       max_depth=None, max_features='auto', max_leaf_nodes=None,\n",
      "                       min_impurity_decrease=0.0, min_impurity_split=None,\n",
      "                       min_samples_leaf=1, min_samples_split=2,\n",
      "                       min_weight_fraction_leaf=0.0, n_estimators=10,\n",
      "                       n_jobs=None, oob_score=False, random_state=None,\n",
      "                       verbose=0, warm_start=False), [0.7018999781611706, 0.6253051261187957, 0.6924983104302771, array([[1677,  444],\n",
      "       [ 921, 1537]])], [0.716095217296353, 0.7628152969894223, 0.7425742574257426, array([[1404,  717],\n",
      "       [ 583, 1875]])], [0.7307272330203101, 0.806346623270952, 0.7627477390802385, array([[1364,  757],\n",
      "       [ 476, 1982]])], [0.729635291548373, 0.7998372660699756, 0.7605415860735011, array([[1375,  746],\n",
      "       [ 492, 1966]])], [0.7385892116182573, 0.8266883645240033, 0.772476715453336, array([[1350,  771],\n",
      "       [ 426, 2032]])], [0.7344398340248963, 0.8209926769731489, 0.7684691546077684, array([[1345,  776],\n",
      "       [ 440, 2018]])]]) \n",
      "\n"
     ]
    }
   ],
   "source": [
    "for item in d.items():\n",
    "    print(item, '\\n')"
   ]
  },
  {
   "cell_type": "markdown",
   "metadata": {},
   "source": [
    "### Com o print acima, podemos concluir que utilizando o método Bag of Words e os três algoritmos:\n",
    "\n",
    "* Que o melhor cenário é não por todas as palavras em caixa baixa com remoção de caracteres não ASCII e sem remoção de stopwords;\n",
    "* A remoção de StopWords, nesse caso apenas atrapalha o desempenho do algoritmo;\n",
    "* Já a remoção de caracteres \"não ascii\" mostrou-se vantajosa;\n",
    "* O algoritmo de Floresta Randômica, foi o que se saiu melhor neste experimento."
   ]
  },
  {
   "cell_type": "markdown",
   "metadata": {},
   "source": [
    "# Para TFIDF"
   ]
  },
  {
   "cell_type": "code",
   "execution_count": 14,
   "metadata": {},
   "outputs": [],
   "source": [
    "d2 = {}\n",
    "l2 = []\n",
    "i = 0\n",
    "for md in models:\n",
    "    l2.append(md)\n",
    "    for f in features:\n",
    "        xtrain_tfidf, xvalid_tfidf = tfidfVec(dataset['book_title'], f[0], f[1], f[2])\n",
    "        l2.append(train_model(md, xtrain_tfidf, train_y, xvalid_tfidf))\n",
    "    d2[i] = l2\n",
    "    i+=1\n",
    "    l2 = []"
   ]
  },
  {
   "cell_type": "code",
   "execution_count": 15,
   "metadata": {},
   "outputs": [
    {
     "name": "stdout",
     "output_type": "stream",
     "text": [
      "(0, [MultinomialNB(alpha=1.0, class_prior=None, fit_prior=True), [0.6608429788163355, 0.7335231895850285, 0.6989726691219228, array([[1223,  898],\n",
      "       [ 655, 1803]])], [0.6645555798209216, 0.7449145646867372, 0.7045017314351675, array([[1212,  909],\n",
      "       [ 627, 1831]])], [0.6726359467132562, 0.7436940602115542, 0.7092143549951503, array([[1252,  869],\n",
      "       [ 630, 1828]])], [0.6724175584188687, 0.7522375915378356, 0.7114274721046557, array([[1230,  891],\n",
      "       [ 609, 1849]])], [0.6724175584188687, 0.7563059397884458, 0.7125335377539287, array([[1220,  901],\n",
      "       [ 599, 1859]])], [0.6682681808255078, 0.7558991049633849, 0.7098376313276026, array([[1202,  919],\n",
      "       [ 600, 1858]])]]) \n",
      "\n",
      "(1, [LogisticRegression(C=1.0, class_weight=None, dual=False, fit_intercept=True,\n",
      "                   intercept_scaling=1, l1_ratio=None, max_iter=100,\n",
      "                   multi_class='warn', n_jobs=None, penalty='l2',\n",
      "                   random_state=None, solver='warn', tol=0.0001, verbose=0,\n",
      "                   warm_start=False), [0.6612797554051103, 0.7664768104149715, 0.7084038353073885, array([[1144,  977],\n",
      "       [ 574, 1884]])], [0.6608429788163355, 0.7632221318144833, 0.7072573044297833, array([[1150,  971],\n",
      "       [ 582, 1876]])], [0.6732911115964184, 0.7648494711147275, 0.7153729071537291, array([[1203,  918],\n",
      "       [ 578, 1880]])], [0.6741646647739681, 0.7693246541903987, 0.7171027682973076, array([[1196,  925],\n",
      "       [ 567, 1891]])], [0.673072723302031, 0.7636289666395444, 0.714911445438964, array([[1205,  916],\n",
      "       [ 581, 1877]])], [0.6715440052413191, 0.7664768104149715, 0.7147192716236723, array([[1191,  930],\n",
      "       [ 574, 1884]])]]) \n",
      "\n",
      "(2, [RandomForestClassifier(bootstrap=True, class_weight=None, criterion='gini',\n",
      "                       max_depth=None, max_features='auto', max_leaf_nodes=None,\n",
      "                       min_impurity_decrease=0.0, min_impurity_split=None,\n",
      "                       min_samples_leaf=1, min_samples_split=2,\n",
      "                       min_weight_fraction_leaf=0.0, n_estimators=10,\n",
      "                       n_jobs=None, oob_score=False, random_state=None,\n",
      "                       verbose=0, warm_start=False), [0.7038654728106574, 0.7835638730675346, 0.73963133640553, array([[1297,  824],\n",
      "       [ 532, 1926]])], [0.7147848875300284, 0.7876322213181448, 0.7477790652761686, array([[1337,  784],\n",
      "       [ 522, 1936]])], [0.7289801266652107, 0.8270951993490643, 0.7661579046542303, array([[1305,  816],\n",
      "       [ 425, 2033]])], [0.7326927276697969, 0.8197721724979659, 0.7670346402740769, array([[1340,  781],\n",
      "       [ 443, 2015]])], [0.7267962437213366, 0.8144833197721725, 0.7619410085632731, array([[1326,  795],\n",
      "       [ 456, 2002]])], [0.7215549246560384, 0.8161106590724166, 0.7588424437299035, array([[1298,  823],\n",
      "       [ 452, 2006]])]]) \n",
      "\n"
     ]
    }
   ],
   "source": [
    "for item in d2.items():\n",
    "    print(item, '\\n')"
   ]
  },
  {
   "cell_type": "markdown",
   "metadata": {},
   "source": [
    "### Com o print acima, podemos concluir que utilizando o método TFIDF e os três algoritmos:\n",
    "\n",
    "* Que o melhor cenário é não por todas as palavras em caixa baixa com remoção de caracteres não ASCII e sem remoção de stopwords;\n",
    "* A remoção de StopWords, nesse caso apenas atrapalha o desempenho do algoritmo;\n",
    "* Já a remoção de caracteres \"não ascii\" mostrou-se vantajosa;\n",
    "* Mas uma vez o algoritmo de Floresta Randômica, foi o que se saiu melhor neste experimento.\n",
    "* Podemos observar também que o uso da técnica TFIDF, mostrou-se obter resultados piores do que uma técnica mais simples como o Bag of Words"
   ]
  },
  {
   "cell_type": "markdown",
   "metadata": {},
   "source": [
    "# Análise Preliminar dos Resultados\n"
   ]
  },
  {
   "cell_type": "markdown",
   "metadata": {},
   "source": [
    "### Para a análise dos resultados será considerada a execução com os seguintes parâmetros:\n",
    "\n",
    "* Sem aplicação de *lowercase*\n",
    "* Com remoção de caracteres \"não ASCII\"\n",
    "* Sem remoção de *stopwords*\n",
    "* Com a aplicação da técnica *bag of words*\n",
    "\n",
    "#### Os resultados são compostos das seguintes métricas, e seus resultados:\n",
    "\n",
    "* Acurácia: 0,73\n",
    "* Recall:   0,82\n",
    "* F1 Score: 0,77\n",
    "\n",
    "Apesar de acertar aproximadamente o gênero de 7 autores(as) a cada 10 vez, o recall do algoritmo é consideravelmente alto, o que significa que consegue identificar com uma boa margem aqueles o qual ele selecionou como sendo de cada gênero.\n",
    "Todavia, observando a F1 Score, podemos inferir que a precisão do algoritmo é bem inferior ao recall, o que faz com que muitos titulos tenham sido atribuídos ao gênero errado."
   ]
  },
  {
   "cell_type": "code",
   "execution_count": 16,
   "metadata": {},
   "outputs": [
    {
     "data": {
      "image/png": "[encoded data removed]",
      "text/plain": [
       "<Figure size 432x288 with 1 Axes>"
      ]
     },
     "metadata": {
      "needs_background": "light"
     },
     "output_type": "display_data"
    }
   ],
   "source": [
    "listOfResults = [d2[2][6][0], d2[2][6][1], d2[2][6][2]]\n",
    "listOfMetrics = ['Acuracia', 'Recall', 'F1 Score']\n",
    "plotMetrics(listOfResults, listOfMetrics)"
   ]
  },
  {
   "cell_type": "code",
   "execution_count": 17,
   "metadata": {},
   "outputs": [
    {
     "name": "stdout",
     "output_type": "stream",
     "text": [
      "Matrix de Confusão\n",
      "Matrix de Confusão Normalizada\n"
     ]
    },
    {
     "data": {
      "image/png": "[encoded data removed]",
      "text/plain": [
       "<Figure size 432x288 with 2 Axes>"
      ]
     },
     "metadata": {
      "needs_background": "light"
     },
     "output_type": "display_data"
    },
    {
     "data": {
      "image/png": "[encoded data removed]",
      "text/plain": [
       "<Figure size 432x288 with 2 Axes>"
      ]
     },
     "metadata": {
      "needs_background": "light"
     },
     "output_type": "display_data"
    }
   ],
   "source": [
    "np.set_printoptions(precision=2)\n",
    "cl = ['Homem', 'Mulher']\n",
    "cl = np.asarray(cl)\n",
    "plot_confusion_matrix(cl, d[2][6][3])\n",
    "plot_confusion_matrix(cl, d[2][6][3], normalize=True)\n",
    "plt.show()"
   ]
  },
  {
   "cell_type": "markdown",
   "metadata": {},
   "source": [
    "### Com base na Matriz de Confusão, pode-se observar que o Algoritmo tem uma maior acerto (cerca de 20% a mais) quando identifica as autoras, logo ele classifica muito livro que é escrito por um autor, como sendo escrito por uma autora."
   ]
  }
 ],
 "metadata": {
  "kernelspec": {
   "display_name": "Python 3",
   "language": "python",
   "name": "python3"
  },
  "language_info": {
   "codemirror_mode": {
    "name": "ipython",
    "version": 3
   },
   "file_extension": ".py",
   "mimetype": "text/x-python",
   "name": "python",
   "nbconvert_exporter": "python",
   "pygments_lexer": "ipython3",
   "version": "3.7.4"
  }
 },
 "nbformat": 4,
 "nbformat_minor": 2
}
