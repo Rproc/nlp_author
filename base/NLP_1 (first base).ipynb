{
 "cells": [
  {
   "cell_type": "code",
   "execution_count": 3,
   "metadata": {},
   "outputs": [],
   "source": [
    "# Bibliotecas de aprendizado\n",
    "from sklearn import model_selection, preprocessing, linear_model, naive_bayes, metrics, svm, decomposition, ensemble\n",
    "# Bibliotecas de extracao de caracteristicas de texto\n",
    "from sklearn.feature_extraction.text import TfidfVectorizer, CountVectorizer\n",
    "# Bibliotecas normais\n",
    "import pandas as pd, numpy"
   ]
  },
  {
   "cell_type": "code",
   "execution_count": 4,
   "metadata": {},
   "outputs": [],
   "source": [
    "# carregando o dataset\n",
    "dataset = pd.read_csv('dataset/good_reads_final.csv')"
   ]
  },
  {
   "cell_type": "code",
   "execution_count": 5,
   "metadata": {},
   "outputs": [
    {
     "data": {
      "text/plain": [
       "Index(['author_average_rating', 'author_gender', 'author_genres', 'author_id',\n",
       "       'author_name', 'author_page_url', 'author_rating_count',\n",
       "       'author_review_count', 'birthplace', 'book_average_rating',\n",
       "       'book_fullurl', 'book_id', 'book_title', 'genre_1', 'genre_2',\n",
       "       'num_ratings', 'num_reviews', 'pages', 'publish_date', 'score'],\n",
       "      dtype='object')"
      ]
     },
     "execution_count": 5,
     "metadata": {},
     "output_type": "execute_result"
    }
   ],
   "source": [
    "#verificando colunas\n",
    "dataset.columns"
   ]
  },
  {
   "cell_type": "code",
   "execution_count": 6,
   "metadata": {},
   "outputs": [],
   "source": [
    "# Separacao dos conjuntos de treino e teste\n",
    "train_x, valid_x, train_y, valid_y = model_selection.train_test_split(dataset['book_title'], dataset['author_gender'], test_size = 0.2)"
   ]
  },
  {
   "cell_type": "code",
   "execution_count": 8,
   "metadata": {},
   "outputs": [],
   "source": [
    "# Fazendo homem e mulher virar 0 e 1\n",
    "encoder = preprocessing.LabelEncoder()\n",
    "train_y = encoder.fit_transform(train_y)\n",
    "valid_y = encoder.fit_transform(valid_y)"
   ]
  },
  {
   "cell_type": "code",
   "execution_count": 11,
   "metadata": {},
   "outputs": [],
   "source": [
    "# Contagem de palavras nos documentos (linhas do texto), analisa palavra por palavra, com o minimo de caracter por palavra\n",
    "count_vect = CountVectorizer(analyzer='word', token_pattern=r'\\w{1,}')\n",
    "#Treina usando o texto com base nos parametros da linha anterior\n",
    "count_vect.fit(dataset['book_title'])\n",
    "# Transforma o conjunto de treino (titulos do livro) em bag of words\n",
    "xtrain_count =  count_vect.transform(train_x)\n",
    "\n",
    "# Transforma o conjunto de teste (titulos do livro) em bag of words\n",
    "xvalid_count =  count_vect.transform(valid_x)"
   ]
  },
  {
   "cell_type": "code",
   "execution_count": 13,
   "metadata": {},
   "outputs": [],
   "source": [
    "# contagem de palavras com uma analise de importancia do termo em vista do titulo \n",
    "tfidf_vect = TfidfVectorizer(analyzer='word', token_pattern=r'\\w{1,}', max_features=5000)\n",
    "#Treina usando o texto com base nos parametros da linha anterior\n",
    "tfidf_vect.fit(dataset['book_title'])\n",
    "\n",
    "# Transforma o conjunto de treino (titulos do livro) em TFIDF\n",
    "xtrain_tfidf =  tfidf_vect.transform(train_x)\n",
    "# Transforma o conjunto de teste (titulos do livro) em TFIDF\n",
    "xvalid_tfidf =  tfidf_vect.transform(valid_x)"
   ]
  },
  {
   "cell_type": "code",
   "execution_count": 15,
   "metadata": {},
   "outputs": [],
   "source": [
    "# Classifier -> Classificador que você passa, \n",
    "# Feature_vector_train -> titulos dos livros da base de treino ja modificados para numero (bag of words ou tfidf)\n",
    "# label -> Rotulo do titulo do livro (genero do autor, se eh homem ou mulher)\n",
    "# feature_vector_valid -> conjunto de teste (titulos dos livros ja modificados tambem)\n",
    "def train_model(classifier, feature_vector_train, label, feature_vector_valid):\n",
    "    # Treina usando o modelo passado (conjunto de treino, rotulo do treino)\n",
    "    classifier.fit(feature_vector_train, label)\n",
    "    \n",
    "    # Prediz os rotulos do conjunto de teste\n",
    "    predictions = classifier.predict(feature_vector_valid)\n",
    "\n",
    "    # retorna a acuracia\n",
    "    return metrics.accuracy_score(predictions, valid_y)"
   ]
  },
  {
   "cell_type": "code",
   "execution_count": 16,
   "metadata": {},
   "outputs": [
    {
     "name": "stdout",
     "output_type": "stream",
     "text": [
      "0.6634636383489845\n"
     ]
    }
   ],
   "source": [
    "#Usando Naive Bayes como algoritmo de Aprendizado\n",
    "accuracy = train_model(naive_bayes.MultinomialNB(), xtrain_tfidf, train_y, xvalid_tfidf)\n",
    "print(accuracy)"
   ]
  },
  {
   "cell_type": "code",
   "execution_count": 17,
   "metadata": {},
   "outputs": [
    {
     "name": "stdout",
     "output_type": "stream",
     "text": [
      "LR, WordLevel TF-IDF:  0.6689233457086701\n"
     ]
    },
    {
     "name": "stderr",
     "output_type": "stream",
     "text": [
      "/opt/anaconda/lib/python3.7/site-packages/sklearn/linear_model/logistic.py:432: FutureWarning: Default solver will be changed to 'lbfgs' in 0.22. Specify a solver to silence this warning.\n",
      "  FutureWarning)\n"
     ]
    }
   ],
   "source": [
    "#Usando Regressao logistica como algoritmo de Aprendizado\n",
    "\n",
    "accuracy = train_model(linear_model.LogisticRegression(), xtrain_tfidf, train_y, xvalid_tfidf)\n",
    "print (\"LR, WordLevel TF-IDF: \", accuracy)"
   ]
  },
  {
   "cell_type": "code",
   "execution_count": 18,
   "metadata": {},
   "outputs": [
    {
     "name": "stderr",
     "output_type": "stream",
     "text": [
      "/opt/anaconda/lib/python3.7/site-packages/sklearn/ensemble/forest.py:245: FutureWarning: The default value of n_estimators will change from 10 in version 0.20 to 100 in 0.22.\n",
      "  \"10 in version 0.20 to 100 in 0.22.\", FutureWarning)\n"
     ]
    },
    {
     "name": "stdout",
     "output_type": "stream",
     "text": [
      "RF, WordLevel TF-IDF:  0.7248307490718497\n"
     ]
    }
   ],
   "source": [
    "# Usando Floresta Randomica como algoritmo de Aprendizado\n",
    "accuracy = train_model(ensemble.RandomForestClassifier(), xtrain_tfidf, train_y, xvalid_tfidf)\n",
    "print (\"RF, WordLevel TF-IDF: \", accuracy)"
   ]
  },
  {
   "cell_type": "code",
   "execution_count": null,
   "metadata": {},
   "outputs": [],
   "source": []
  }
 ],
 "metadata": {
  "kernelspec": {
   "display_name": "Python 3",
   "language": "python",
   "name": "python3"
  },
  "language_info": {
   "codemirror_mode": {
    "name": "ipython",
    "version": 3
   },
   "file_extension": ".py",
   "mimetype": "text/x-python",
   "name": "python",
   "nbconvert_exporter": "python",
   "pygments_lexer": "ipython3",
   "version": "3.7.4"
  }
 },
 "nbformat": 4,
 "nbformat_minor": 2
}
